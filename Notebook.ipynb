{
 "cells": [
  {
   "cell_type": "code",
   "execution_count": 1,
   "metadata": {
    "id": "LZdTCfNs7mA9"
   },
   "outputs": [],
   "source": [
    "import numpy as np\n",
    "import pandas as pd\n",
    "import seaborn as sns\n",
    "import matplotlib.pyplot as plt\n",
    "from sklearn.metrics import accuracy_score, f1_score, precision_score, recall_score, classification_report, confusion_matrix\n",
    "from sklearn.model_selection import cross_val_score, GridSearchCV, RandomizedSearchCV\n",
    "from keras.wrappers.scikit_learn import KerasClassifier\n",
    "from sklearn.model_selection import StratifiedKFold\n",
    "from sklearn.model_selection import train_test_split\n",
    "from sklearn.metrics import f1_score\n",
    "from keras.utils.np_utils import to_categorical\n",
    "from sklearn.utils import class_weight\n",
    "from sklearn.metrics import log_loss\n",
    "from tensorflow.keras import layers\n",
    "from tensorflow.keras.models import Sequential\n",
    "from tensorflow.keras.layers import Dense\n",
    "from tensorflow.keras.models import Model, load_model\n",
    "from tensorflow.keras.utils import to_categorical\n",
    "from tensorflow.keras.layers import Dropout\n",
    "from tensorflow.keras.layers import Flatten\n",
    "from tensorflow.keras.layers import Conv1D\n",
    "from tensorflow.keras.layers import MaxPooling1D"
   ]
  },
  {
   "cell_type": "code",
   "execution_count": 2,
   "metadata": {},
   "outputs": [],
   "source": [
    "column_names = ['id','time','latitude','longitude','direction','road','trafficStatus','avgVehicleSpeed','vehicleFlowRate','trafficConcentration']"
   ]
  },
  {
   "cell_type": "code",
   "execution_count": 7,
   "metadata": {
    "id": "gzR7jgVWEJos"
   },
   "outputs": [],
   "source": [
    "train_df=pd.read_csv('datexDataB40.csv', names = column_names,sep=';')"
   ]
  },
  {
   "cell_type": "code",
   "execution_count": 10,
   "metadata": {},
   "outputs": [],
   "source": [
    "train_df= train_df.dropna()"
   ]
  },
  {
   "cell_type": "code",
   "execution_count": 11,
   "metadata": {},
   "outputs": [
    {
     "name": "stdout",
     "output_type": "stream",
     "text": [
      "<class 'pandas.core.frame.DataFrame'>\n",
      "Int64Index: 167291 entries, 0 to 177539\n",
      "Data columns (total 10 columns):\n",
      " #   Column                Non-Null Count   Dtype  \n",
      "---  ------                --------------   -----  \n",
      " 0   id                    167291 non-null  object \n",
      " 1   time                  167291 non-null  object \n",
      " 2   latitude              167291 non-null  float64\n",
      " 3   longitude             167291 non-null  float64\n",
      " 4   direction             167291 non-null  object \n",
      " 5   road                  167291 non-null  object \n",
      " 6   trafficStatus         167291 non-null  object \n",
      " 7   avgVehicleSpeed       167291 non-null  float64\n",
      " 8   vehicleFlowRate       167291 non-null  int64  \n",
      " 9   trafficConcentration  167291 non-null  float64\n",
      "dtypes: float64(4), int64(1), object(5)\n",
      "memory usage: 14.0+ MB\n"
     ]
    }
   ],
   "source": [
    "train_df.info()"
   ]
  },
  {
   "cell_type": "code",
   "execution_count": 12,
   "metadata": {},
   "outputs": [
    {
     "data": {
      "text/html": [
       "<div>\n",
       "<style scoped>\n",
       "    .dataframe tbody tr th:only-of-type {\n",
       "        vertical-align: middle;\n",
       "    }\n",
       "\n",
       "    .dataframe tbody tr th {\n",
       "        vertical-align: top;\n",
       "    }\n",
       "\n",
       "    .dataframe thead th {\n",
       "        text-align: right;\n",
       "    }\n",
       "</style>\n",
       "<table border=\"1\" class=\"dataframe\">\n",
       "  <thead>\n",
       "    <tr style=\"text-align: right;\">\n",
       "      <th></th>\n",
       "      <th>id</th>\n",
       "      <th>time</th>\n",
       "      <th>latitude</th>\n",
       "      <th>longitude</th>\n",
       "      <th>direction</th>\n",
       "      <th>road</th>\n",
       "      <th>trafficStatus</th>\n",
       "      <th>avgVehicleSpeed</th>\n",
       "      <th>vehicleFlowRate</th>\n",
       "      <th>trafficConcentration</th>\n",
       "    </tr>\n",
       "  </thead>\n",
       "  <tbody>\n",
       "    <tr>\n",
       "      <th>0</th>\n",
       "      <td>B40.HR.18089</td>\n",
       "      <td>2019-11-19T07:39:00.000+01:00</td>\n",
       "      <td>49.493904</td>\n",
       "      <td>5.947297</td>\n",
       "      <td>outboundFromTown</td>\n",
       "      <td>B40</td>\n",
       "      <td>congested</td>\n",
       "      <td>58.0</td>\n",
       "      <td>114</td>\n",
       "      <td>0.0</td>\n",
       "    </tr>\n",
       "    <tr>\n",
       "      <th>1</th>\n",
       "      <td>B40.HR.18260</td>\n",
       "      <td>2019-11-19T07:39:00.000+01:00</td>\n",
       "      <td>49.493275</td>\n",
       "      <td>5.949434</td>\n",
       "      <td>outboundFromTown</td>\n",
       "      <td>B40</td>\n",
       "      <td>congested</td>\n",
       "      <td>61.0</td>\n",
       "      <td>108</td>\n",
       "      <td>1.0</td>\n",
       "    </tr>\n",
       "    <tr>\n",
       "      <th>2</th>\n",
       "      <td>B40.HR.18610</td>\n",
       "      <td>2019-11-19T07:39:00.000+01:00</td>\n",
       "      <td>49.491620</td>\n",
       "      <td>5.953512</td>\n",
       "      <td>outboundFromTown</td>\n",
       "      <td>B40</td>\n",
       "      <td>congested</td>\n",
       "      <td>69.0</td>\n",
       "      <td>133</td>\n",
       "      <td>0.0</td>\n",
       "    </tr>\n",
       "    <tr>\n",
       "      <th>3</th>\n",
       "      <td>B40.RH.18260</td>\n",
       "      <td>2019-11-19T07:39:00.000+01:00</td>\n",
       "      <td>49.493332</td>\n",
       "      <td>5.949474</td>\n",
       "      <td>inboundTowardsTown</td>\n",
       "      <td>B40</td>\n",
       "      <td>congested</td>\n",
       "      <td>58.0</td>\n",
       "      <td>1111</td>\n",
       "      <td>6.0</td>\n",
       "    </tr>\n",
       "    <tr>\n",
       "      <th>4</th>\n",
       "      <td>B40.RH.18089</td>\n",
       "      <td>2019-11-19T07:39:00.000+01:00</td>\n",
       "      <td>49.493960</td>\n",
       "      <td>5.947337</td>\n",
       "      <td>inboundTowardsTown</td>\n",
       "      <td>B40</td>\n",
       "      <td>congested</td>\n",
       "      <td>59.0</td>\n",
       "      <td>1116</td>\n",
       "      <td>5.0</td>\n",
       "    </tr>\n",
       "  </tbody>\n",
       "</table>\n",
       "</div>"
      ],
      "text/plain": [
       "             id                           time   latitude  longitude  \\\n",
       "0  B40.HR.18089  2019-11-19T07:39:00.000+01:00  49.493904   5.947297   \n",
       "1  B40.HR.18260  2019-11-19T07:39:00.000+01:00  49.493275   5.949434   \n",
       "2  B40.HR.18610  2019-11-19T07:39:00.000+01:00  49.491620   5.953512   \n",
       "3  B40.RH.18260  2019-11-19T07:39:00.000+01:00  49.493332   5.949474   \n",
       "4  B40.RH.18089  2019-11-19T07:39:00.000+01:00  49.493960   5.947337   \n",
       "\n",
       "            direction road trafficStatus  avgVehicleSpeed  vehicleFlowRate  \\\n",
       "0    outboundFromTown  B40     congested             58.0              114   \n",
       "1    outboundFromTown  B40     congested             61.0              108   \n",
       "2    outboundFromTown  B40     congested             69.0              133   \n",
       "3  inboundTowardsTown  B40     congested             58.0             1111   \n",
       "4  inboundTowardsTown  B40     congested             59.0             1116   \n",
       "\n",
       "   trafficConcentration  \n",
       "0                   0.0  \n",
       "1                   1.0  \n",
       "2                   0.0  \n",
       "3                   6.0  \n",
       "4                   5.0  "
      ]
     },
     "execution_count": 12,
     "metadata": {},
     "output_type": "execute_result"
    }
   ],
   "source": [
    "train_df.head()"
   ]
  },
  {
   "cell_type": "code",
   "execution_count": 14,
   "metadata": {},
   "outputs": [
    {
     "data": {
      "text/plain": [
       "<AxesSubplot:xlabel='trafficStatus', ylabel='count'>"
      ]
     },
     "execution_count": 14,
     "metadata": {},
     "output_type": "execute_result"
    },
    {
     "data": {
      "image/png": "[encoded data removed]",
      "text/plain": [
       "<Figure size 432x288 with 1 Axes>"
      ]
     },
     "metadata": {
      "needs_background": "light"
     },
     "output_type": "display_data"
    }
   ],
   "source": [
    "import seaborn as sns\n",
    "sns.countplot(x=\"trafficStatus\", data = train_df)"
   ]
  },
  {
   "cell_type": "code",
   "execution_count": 21,
   "metadata": {},
   "outputs": [
    {
     "data": {
      "text/plain": [
       "<AxesSubplot:xlabel='direction', ylabel='count'>"
      ]
     },
     "execution_count": 21,
     "metadata": {},
     "output_type": "execute_result"
    },
    {
     "data": {
      "image/png": "[encoded data removed]",
      "text/plain": [
       "<Figure size 432x288 with 1 Axes>"
      ]
     },
     "metadata": {
      "needs_background": "light"
     },
     "output_type": "display_data"
    }
   ],
   "source": [
    "sns.countplot(x=\"direction\", data = train_df)"
   ]
  },
  {
   "cell_type": "code",
   "execution_count": 22,
   "metadata": {},
   "outputs": [
    {
     "data": {
      "text/plain": [
       "<AxesSubplot:xlabel='road', ylabel='count'>"
      ]
     },
     "execution_count": 22,
     "metadata": {},
     "output_type": "execute_result"
    },
    {
     "data": {
      "image/png": "[encoded data removed]",
      "text/plain": [
       "<Figure size 432x288 with 1 Axes>"
      ]
     },
     "metadata": {
      "needs_background": "light"
     },
     "output_type": "display_data"
    }
   ],
   "source": [
    "sns.countplot(x=\"road\", data = train_df)"
   ]
  },
  {
   "cell_type": "code",
   "execution_count": 15,
   "metadata": {},
   "outputs": [
    {
     "data": {
      "text/plain": [
       "congested     148323\n",
       "freeFlow       18904\n",
       "unknown           60\n",
       "impossible         4\n",
       "Name: trafficStatus, dtype: int64"
      ]
     },
     "execution_count": 15,
     "metadata": {},
     "output_type": "execute_result"
    }
   ],
   "source": [
    "train_df['trafficStatus'].value_counts()"
   ]
  },
  {
   "cell_type": "code",
   "execution_count": 17,
   "metadata": {},
   "outputs": [
    {
     "data": {
      "text/plain": [
       "['id',\n",
       " 'time',\n",
       " 'latitude',\n",
       " 'longitude',\n",
       " 'direction',\n",
       " 'road',\n",
       " 'trafficStatus',\n",
       " 'avgVehicleSpeed',\n",
       " 'vehicleFlowRate',\n",
       " 'trafficConcentration']"
      ]
     },
     "execution_count": 17,
     "metadata": {},
     "output_type": "execute_result"
    }
   ],
   "source": [
    "cols = list(train_df.columns.values)\n",
    "cols"
   ]
  },
  {
   "cell_type": "code",
   "execution_count": 18,
   "metadata": {},
   "outputs": [],
   "source": [
    "train_df = train_df[['id','time','latitude','longitude','direction','road','avgVehicleSpeed','vehicleFlowRate','trafficConcentration','trafficStatus']]"
   ]
  },
  {
   "cell_type": "code",
   "execution_count": 20,
   "metadata": {},
   "outputs": [
    {
     "name": "stdout",
     "output_type": "stream",
     "text": [
      "<class 'pandas.core.frame.DataFrame'>\n",
      "Int64Index: 167291 entries, 0 to 177539\n",
      "Data columns (total 10 columns):\n",
      " #   Column                Non-Null Count   Dtype  \n",
      "---  ------                --------------   -----  \n",
      " 0   id                    167291 non-null  object \n",
      " 1   time                  167291 non-null  object \n",
      " 2   latitude              167291 non-null  float64\n",
      " 3   longitude             167291 non-null  float64\n",
      " 4   direction             167291 non-null  object \n",
      " 5   road                  167291 non-null  object \n",
      " 6   avgVehicleSpeed       167291 non-null  float64\n",
      " 7   vehicleFlowRate       167291 non-null  int64  \n",
      " 8   trafficConcentration  167291 non-null  float64\n",
      " 9   trafficStatus         167291 non-null  object \n",
      "dtypes: float64(4), int64(1), object(5)\n",
      "memory usage: 18.1+ MB\n"
     ]
    }
   ],
   "source": [
    "train_df.info()"
   ]
  },
  {
   "cell_type": "code",
   "execution_count": 23,
   "metadata": {},
   "outputs": [
    {
     "data": {
      "text/plain": [
       "array([0, 1, 3, 2])"
      ]
     },
     "execution_count": 23,
     "metadata": {},
     "output_type": "execute_result"
    }
   ],
   "source": [
    "from sklearn import preprocessing\n",
    "  \n",
    "# label_encoder object knows how to understand word labels.\n",
    "label_encoder = preprocessing.LabelEncoder()\n",
    "  \n",
    "# Encode labels in column 'species'.\n",
    "train_df['direction']= label_encoder.fit_transform(train_df['direction'])\n",
    "train_df['road']= label_encoder.fit_transform(train_df['road'])\n",
    "train_df['trafficStatus']= label_encoder.fit_transform(train_df['trafficStatus'])\n",
    "\n",
    "train_df['direction'].unique()\n",
    "train_df['road'].unique()\n",
    "train_df['trafficStatus'].unique()"
   ]
  },
  {
   "cell_type": "code",
   "execution_count": 24,
   "metadata": {},
   "outputs": [
    {
     "name": "stdout",
     "output_type": "stream",
     "text": [
      "(167291, 10)\n"
     ]
    }
   ],
   "source": [
    "print(train_df.shape)"
   ]
  },
  {
   "cell_type": "markdown",
   "metadata": {
    "id": "xIOHloxSK1Gd"
   },
   "source": [
    "Reshape X_train and X_test to 3D since Conv1D requires 3D data"
   ]
  },
  {
   "cell_type": "code",
   "execution_count": 25,
   "metadata": {},
   "outputs": [],
   "source": [
    "X = train_df.iloc[:, 2:9]\n",
    "y = train_df.iloc[:,9]"
   ]
  },
  {
   "cell_type": "code",
   "execution_count": 29,
   "metadata": {},
   "outputs": [
    {
     "data": {
      "text/html": [
       "<div>\n",
       "<style scoped>\n",
       "    .dataframe tbody tr th:only-of-type {\n",
       "        vertical-align: middle;\n",
       "    }\n",
       "\n",
       "    .dataframe tbody tr th {\n",
       "        vertical-align: top;\n",
       "    }\n",
       "\n",
       "    .dataframe thead th {\n",
       "        text-align: right;\n",
       "    }\n",
       "</style>\n",
       "<table border=\"1\" class=\"dataframe\">\n",
       "  <thead>\n",
       "    <tr style=\"text-align: right;\">\n",
       "      <th></th>\n",
       "      <th>latitude</th>\n",
       "      <th>longitude</th>\n",
       "      <th>direction</th>\n",
       "      <th>road</th>\n",
       "      <th>avgVehicleSpeed</th>\n",
       "      <th>vehicleFlowRate</th>\n",
       "      <th>trafficConcentration</th>\n",
       "    </tr>\n",
       "  </thead>\n",
       "  <tbody>\n",
       "    <tr>\n",
       "      <th>0</th>\n",
       "      <td>49.493904</td>\n",
       "      <td>5.947297</td>\n",
       "      <td>1</td>\n",
       "      <td>0</td>\n",
       "      <td>58.0</td>\n",
       "      <td>114</td>\n",
       "      <td>0.0</td>\n",
       "    </tr>\n",
       "    <tr>\n",
       "      <th>1</th>\n",
       "      <td>49.493275</td>\n",
       "      <td>5.949434</td>\n",
       "      <td>1</td>\n",
       "      <td>0</td>\n",
       "      <td>61.0</td>\n",
       "      <td>108</td>\n",
       "      <td>1.0</td>\n",
       "    </tr>\n",
       "    <tr>\n",
       "      <th>2</th>\n",
       "      <td>49.491620</td>\n",
       "      <td>5.953512</td>\n",
       "      <td>1</td>\n",
       "      <td>0</td>\n",
       "      <td>69.0</td>\n",
       "      <td>133</td>\n",
       "      <td>0.0</td>\n",
       "    </tr>\n",
       "    <tr>\n",
       "      <th>3</th>\n",
       "      <td>49.493332</td>\n",
       "      <td>5.949474</td>\n",
       "      <td>0</td>\n",
       "      <td>0</td>\n",
       "      <td>58.0</td>\n",
       "      <td>1111</td>\n",
       "      <td>6.0</td>\n",
       "    </tr>\n",
       "    <tr>\n",
       "      <th>4</th>\n",
       "      <td>49.493960</td>\n",
       "      <td>5.947337</td>\n",
       "      <td>0</td>\n",
       "      <td>0</td>\n",
       "      <td>59.0</td>\n",
       "      <td>1116</td>\n",
       "      <td>5.0</td>\n",
       "    </tr>\n",
       "    <tr>\n",
       "      <th>...</th>\n",
       "      <td>...</td>\n",
       "      <td>...</td>\n",
       "      <td>...</td>\n",
       "      <td>...</td>\n",
       "      <td>...</td>\n",
       "      <td>...</td>\n",
       "      <td>...</td>\n",
       "    </tr>\n",
       "    <tr>\n",
       "      <th>177535</th>\n",
       "      <td>49.491695</td>\n",
       "      <td>5.953599</td>\n",
       "      <td>0</td>\n",
       "      <td>0</td>\n",
       "      <td>78.0</td>\n",
       "      <td>111</td>\n",
       "      <td>0.0</td>\n",
       "    </tr>\n",
       "    <tr>\n",
       "      <th>177536</th>\n",
       "      <td>49.497500</td>\n",
       "      <td>5.942809</td>\n",
       "      <td>1</td>\n",
       "      <td>0</td>\n",
       "      <td>92.0</td>\n",
       "      <td>45</td>\n",
       "      <td>0.0</td>\n",
       "    </tr>\n",
       "    <tr>\n",
       "      <th>177537</th>\n",
       "      <td>49.497510</td>\n",
       "      <td>5.942954</td>\n",
       "      <td>0</td>\n",
       "      <td>0</td>\n",
       "      <td>82.0</td>\n",
       "      <td>96</td>\n",
       "      <td>0.0</td>\n",
       "    </tr>\n",
       "    <tr>\n",
       "      <th>177538</th>\n",
       "      <td>49.493275</td>\n",
       "      <td>5.949434</td>\n",
       "      <td>1</td>\n",
       "      <td>0</td>\n",
       "      <td>93.0</td>\n",
       "      <td>40</td>\n",
       "      <td>0.0</td>\n",
       "    </tr>\n",
       "    <tr>\n",
       "      <th>177539</th>\n",
       "      <td>49.493960</td>\n",
       "      <td>5.947337</td>\n",
       "      <td>0</td>\n",
       "      <td>0</td>\n",
       "      <td>61.0</td>\n",
       "      <td>92</td>\n",
       "      <td>1.0</td>\n",
       "    </tr>\n",
       "  </tbody>\n",
       "</table>\n",
       "<p>167291 rows × 7 columns</p>\n",
       "</div>"
      ],
      "text/plain": [
       "         latitude  longitude  direction  road  avgVehicleSpeed  \\\n",
       "0       49.493904   5.947297          1     0             58.0   \n",
       "1       49.493275   5.949434          1     0             61.0   \n",
       "2       49.491620   5.953512          1     0             69.0   \n",
       "3       49.493332   5.949474          0     0             58.0   \n",
       "4       49.493960   5.947337          0     0             59.0   \n",
       "...           ...        ...        ...   ...              ...   \n",
       "177535  49.491695   5.953599          0     0             78.0   \n",
       "177536  49.497500   5.942809          1     0             92.0   \n",
       "177537  49.497510   5.942954          0     0             82.0   \n",
       "177538  49.493275   5.949434          1     0             93.0   \n",
       "177539  49.493960   5.947337          0     0             61.0   \n",
       "\n",
       "        vehicleFlowRate  trafficConcentration  \n",
       "0                   114                   0.0  \n",
       "1                   108                   1.0  \n",
       "2                   133                   0.0  \n",
       "3                  1111                   6.0  \n",
       "4                  1116                   5.0  \n",
       "...                 ...                   ...  \n",
       "177535              111                   0.0  \n",
       "177536               45                   0.0  \n",
       "177537               96                   0.0  \n",
       "177538               40                   0.0  \n",
       "177539               92                   1.0  \n",
       "\n",
       "[167291 rows x 7 columns]"
      ]
     },
     "execution_count": 29,
     "metadata": {},
     "output_type": "execute_result"
    }
   ],
   "source": [
    "X"
   ]
  },
  {
   "cell_type": "code",
   "execution_count": 26,
   "metadata": {},
   "outputs": [],
   "source": [
    "from sklearn.preprocessing import StandardScaler\n",
    "from sklearn.model_selection import train_test_split\n",
    "\n",
    "X_train, X_test, y_train, y_test = train_test_split(X, y, random_state=1)"
   ]
  },
  {
   "cell_type": "code",
   "execution_count": 27,
   "metadata": {
    "id": "01b41vXdFwKK"
   },
   "outputs": [],
   "source": [
    "X_train = X_train.values\n",
    "X_test = X_test.values\n",
    "\n",
    "X_train = X_train.reshape(-1, X_train.shape[1],1)\n",
    "X_test = X_test.reshape(-1, X_test.shape[1],1)"
   ]
  },
  {
   "cell_type": "code",
   "execution_count": 28,
   "metadata": {
    "colab": {
     "base_uri": "https://localhost:8080/"
    },
    "id": "Ys6QLpQqIzp5",
    "outputId": "8c09783c-2f76-4932-e374-924da1d6bc95"
   },
   "outputs": [
    {
     "name": "stdout",
     "output_type": "stream",
     "text": [
      "(125468, 7, 1)\n",
      "(41823, 7, 1)\n"
     ]
    }
   ],
   "source": [
    "print(X_train.shape)\n",
    "print(X_test.shape)"
   ]
  },
  {
   "cell_type": "markdown",
   "metadata": {
    "id": "iirR4KQzLEO-"
   },
   "source": [
    "Convert the Target label to categorical"
   ]
  },
  {
   "cell_type": "code",
   "execution_count": 30,
   "metadata": {
    "id": "Tao2fGogFyCf"
   },
   "outputs": [],
   "source": [
    "target_train = y_train\n",
    "target_test = y_test\n",
    "Y_train=to_categorical(target_train)\n",
    "Y_test=to_categorical(target_test)"
   ]
  },
  {
   "cell_type": "code",
   "execution_count": 31,
   "metadata": {
    "colab": {
     "base_uri": "https://localhost:8080/"
    },
    "id": "kU46s9VkJVWL",
    "outputId": "69eb134a-5ef3-4ab1-92f7-cc2e6ed1c1ec"
   },
   "outputs": [
    {
     "name": "stdout",
     "output_type": "stream",
     "text": [
      "(125468, 4)\n",
      "(41823, 4)\n"
     ]
    }
   ],
   "source": [
    "print(Y_train.shape)\n",
    "print(Y_test.shape)"
   ]
  },
  {
   "cell_type": "markdown",
   "metadata": {
    "id": "Pg_GT3ZKLIHC"
   },
   "source": [
    "Performance Evaluation Function"
   ]
  },
  {
   "cell_type": "code",
   "execution_count": 32,
   "metadata": {
    "id": "CXhKBafzV_g8"
   },
   "outputs": [],
   "source": [
    "def showResults(test, pred):\n",
    "    #target_names = ['positive', 'negative']\n",
    "    # print(classification_report(test, pred, target_names=target_names))\n",
    "    accuracy = accuracy_score(test, pred)\n",
    "    precision=precision_score(test, pred, average='weighted')\n",
    "    f1Score=f1_score(test, pred, average='weighted') \n",
    "    #loss=log_loss(test,pred)\n",
    "    print(\"Accuracy  : {}\".format(accuracy))\n",
    "    print(\"Precision : {}\".format(precision))\n",
    "    print(\"f1Score : {}\".format(f1Score))\n",
    "    #print(\"Loss : {}\".format(loss))\n",
    "    cm=confusion_matrix(test, pred)\n",
    "    print(cm)"
   ]
  },
  {
   "cell_type": "markdown",
   "metadata": {
    "id": "WSKlP9LiHHGd"
   },
   "source": [
    "Model Defination"
   ]
  },
  {
   "cell_type": "code",
   "execution_count": 33,
   "metadata": {
    "colab": {
     "base_uri": "https://localhost:8080/",
     "height": 653
    },
    "id": "e9skz2VpNmWs",
    "outputId": "55dff1a8-09ba-4fb7-b4b3-a8cec85fb5a2"
   },
   "outputs": [
    {
     "name": "stdout",
     "output_type": "stream",
     "text": [
      "Model: \"sequential\"\n",
      "_________________________________________________________________\n",
      "Layer (type)                 Output Shape              Param #   \n",
      "=================================================================\n",
      "conv1d (Conv1D)              (None, 6, 128)            384       \n",
      "_________________________________________________________________\n",
      "max_pooling1d (MaxPooling1D) (None, 3, 128)            0         \n",
      "_________________________________________________________________\n",
      "dropout (Dropout)            (None, 3, 128)            0         \n",
      "_________________________________________________________________\n",
      "flatten (Flatten)            (None, 384)               0         \n",
      "_________________________________________________________________\n",
      "dense (Dense)                (None, 64)                24640     \n",
      "_________________________________________________________________\n",
      "dense_1 (Dense)              (None, 32)                2080      \n",
      "_________________________________________________________________\n",
      "dense_2 (Dense)              (None, 4)                 132       \n",
      "=================================================================\n",
      "Total params: 27,236\n",
      "Trainable params: 27,236\n",
      "Non-trainable params: 0\n",
      "_________________________________________________________________\n"
     ]
    }
   ],
   "source": [
    "verbose, epoch, batch_size = 1, 100, 32\n",
    "activationFunction='relu'\n",
    "\n",
    "def getModel():\n",
    "    \n",
    "    cnnmodel = Sequential()\n",
    "    #cnnmodel.add(Conv1D(filters=256, kernel_size=2, activation='relu'))\n",
    "    #cnnmodel.add(MaxPooling1D(pool_size=2))\n",
    "    cnnmodel.add(Conv1D(filters=128, kernel_size=2, activation='relu',input_shape=(X_train.shape[1],X_train.shape[2])))\n",
    "    cnnmodel.add(MaxPooling1D(pool_size=2))\n",
    "    cnnmodel.add(Dropout(rate=0.2))\n",
    "    cnnmodel.add(Flatten())\n",
    "    cnnmodel.add(Dense(64, activation='relu'))\n",
    "    cnnmodel.add(Dense(32, activation='relu'))\n",
    "    cnnmodel.add(Dense(4, activation='softmax'))\n",
    "    cnnmodel.compile(optimizer='adam', loss='categorical_crossentropy',metrics=['accuracy'])\n",
    "    cnnmodel.summary()\n",
    "    return cnnmodel\n",
    "\n",
    "cnnmodel = getModel()"
   ]
  },
  {
   "cell_type": "code",
   "execution_count": 34,
   "metadata": {
    "colab": {
     "base_uri": "https://localhost:8080/",
     "height": 1000
    },
    "id": "QjBhHoOiOrbn",
    "outputId": "0d229284-5dc6-481a-a2a6-4992b0cb18fd"
   },
   "outputs": [
    {
     "name": "stdout",
     "output_type": "stream",
     "text": [
      "Epoch 1/20\n",
      "3137/3137 [==============================] - 5s 2ms/step - loss: 0.3316 - accuracy: 0.8983 - val_loss: 0.1526 - val_accuracy: 0.9210\n",
      "Epoch 2/20\n",
      "3137/3137 [==============================] - 5s 2ms/step - loss: 0.1971 - accuracy: 0.9213 - val_loss: 0.1092 - val_accuracy: 0.9774\n",
      "Epoch 3/20\n",
      "3137/3137 [==============================] - 5s 2ms/step - loss: 0.1192 - accuracy: 0.9513 - val_loss: 0.0665 - val_accuracy: 0.9797\n",
      "Epoch 4/20\n",
      "3137/3137 [==============================] - 5s 2ms/step - loss: 0.0876 - accuracy: 0.9649 - val_loss: 0.0363 - val_accuracy: 0.9958\n",
      "Epoch 5/20\n",
      "3137/3137 [==============================] - 5s 2ms/step - loss: 0.0840 - accuracy: 0.9664 - val_loss: 0.0465 - val_accuracy: 0.9806\n",
      "Epoch 6/20\n",
      "3137/3137 [==============================] - 5s 2ms/step - loss: 0.1025 - accuracy: 0.9623 - val_loss: 0.1184 - val_accuracy: 0.9484\n",
      "Epoch 7/20\n",
      "3137/3137 [==============================] - 5s 2ms/step - loss: 0.0947 - accuracy: 0.9669 - val_loss: 0.1876 - val_accuracy: 0.9484\n",
      "Epoch 8/20\n",
      "3137/3137 [==============================] - 5s 2ms/step - loss: 0.0846 - accuracy: 0.9714 - val_loss: 0.5988 - val_accuracy: 0.9016\n",
      "Epoch 9/20\n",
      "3137/3137 [==============================] - 5s 2ms/step - loss: 0.0679 - accuracy: 0.9771 - val_loss: 0.6142 - val_accuracy: 0.9097\n",
      "Epoch 10/20\n",
      "3137/3137 [==============================] - 5s 2ms/step - loss: 0.0654 - accuracy: 0.9780 - val_loss: 0.7831 - val_accuracy: 0.9085\n",
      "Epoch 11/20\n",
      "3137/3137 [==============================] - 5s 2ms/step - loss: 0.0659 - accuracy: 0.9777 - val_loss: 0.6866 - val_accuracy: 0.9132\n",
      "Epoch 12/20\n",
      "3137/3137 [==============================] - 5s 2ms/step - loss: 0.0620 - accuracy: 0.9793 - val_loss: 0.9525 - val_accuracy: 0.9021\n",
      "Epoch 13/20\n",
      "3137/3137 [==============================] - 5s 2ms/step - loss: 0.0601 - accuracy: 0.9808 - val_loss: 0.9149 - val_accuracy: 0.9040\n",
      "Epoch 14/20\n",
      "3137/3137 [==============================] - 5s 2ms/step - loss: 0.0608 - accuracy: 0.9794 - val_loss: 1.2229 - val_accuracy: 0.8998\n",
      "Epoch 15/20\n",
      "3137/3137 [==============================] - 5s 2ms/step - loss: 0.0632 - accuracy: 0.9796 - val_loss: 1.2472 - val_accuracy: 0.8944\n",
      "Epoch 16/20\n",
      "3137/3137 [==============================] - 5s 2ms/step - loss: 0.0584 - accuracy: 0.9815 - val_loss: 1.0277 - val_accuracy: 0.9085\n",
      "Epoch 17/20\n",
      "3137/3137 [==============================] - 5s 2ms/step - loss: 0.0659 - accuracy: 0.9776 - val_loss: 1.2486 - val_accuracy: 0.8960\n",
      "Epoch 18/20\n",
      "3137/3137 [==============================] - 5s 2ms/step - loss: 0.0689 - accuracy: 0.9771 - val_loss: 1.1868 - val_accuracy: 0.9021\n",
      "Epoch 19/20\n",
      "3137/3137 [==============================] - 5s 2ms/step - loss: 0.0584 - accuracy: 0.9806 - val_loss: 1.2934 - val_accuracy: 0.8960\n",
      "Epoch 20/20\n",
      "3137/3137 [==============================] - 5s 2ms/step - loss: 0.0569 - accuracy: 0.9818 - val_loss: 1.3796 - val_accuracy: 0.8960\n"
     ]
    }
   ],
   "source": [
    "modelhistory= cnnmodel.fit(X_train, Y_train, epochs=20,verbose=verbose, validation_split=0.2, batch_size = batch_size)"
   ]
  },
  {
   "cell_type": "markdown",
   "metadata": {
    "id": "mbfu1pNRHsIP"
   },
   "source": [
    "Plot the Training Accuracy and Loss"
   ]
  },
  {
   "cell_type": "code",
   "execution_count": 35,
   "metadata": {
    "colab": {
     "base_uri": "https://localhost:8080/",
     "height": 573
    },
    "id": "hapSq_TXUuiz",
    "outputId": "db402fd4-5489-4a07-dbf9-6d05bf684b45"
   },
   "outputs": [
    {
     "data": {
      "image/png": "[encoded data removed]",
      "text/plain": [
       "<Figure size 432x288 with 1 Axes>"
      ]
     },
     "metadata": {
      "needs_background": "light"
     },
     "output_type": "display_data"
    },
    {
     "data": {
      "image/png": "[encoded data removed]",
      "text/plain": [
       "<Figure size 432x288 with 1 Axes>"
      ]
     },
     "metadata": {
      "needs_background": "light"
     },
     "output_type": "display_data"
    }
   ],
   "source": [
    "# Plot training & validation loss values\n",
    "plt.plot(modelhistory.history['loss'])\n",
    "plt.plot(modelhistory.history['val_loss'])\n",
    "plt.title('Model loss')\n",
    "plt.ylabel('Loss')\n",
    "plt.xlabel('Epoch')\n",
    "plt.legend(['Train', 'Validation'], loc='upper left')\n",
    "plt.savefig('loss.png', format='png', dpi=1200)\n",
    "plt.show()\n",
    "\n",
    "\n",
    "# Plot training & validation accuracy values\n",
    "plt.plot(modelhistory.history['accuracy'])\n",
    "plt.plot(modelhistory.history['val_accuracy'])\n",
    "plt.title('Model accuracy')\n",
    "plt.ylabel('Accuracy')\n",
    "plt.xlabel('Epoch')\n",
    "plt.legend(['Train', 'Validation'], loc='upper left')\n",
    "plt.savefig('accuracy.png', format='png', dpi=1200)\n",
    "plt.show()"
   ]
  },
  {
   "cell_type": "markdown",
   "metadata": {
    "id": "Ne0G7bWsH3We"
   },
   "source": [
    "Test the Model"
   ]
  },
  {
   "cell_type": "code",
   "execution_count": 36,
   "metadata": {
    "colab": {
     "base_uri": "https://localhost:8080/",
     "height": 36
    },
    "id": "QHOqPHXUVG4v",
    "outputId": "9247c354-ddbc-4be6-c1af-10837736c164"
   },
   "outputs": [
    {
     "name": "stdout",
     "output_type": "stream",
     "text": [
      "1307/1307 [==============================] - 1s 483us/step\n"
     ]
    }
   ],
   "source": [
    "cnnpredictions = cnnmodel.predict(X_test, verbose=1)"
   ]
  },
  {
   "cell_type": "markdown",
   "metadata": {
    "id": "cQR87UgXH46H"
   },
   "source": [
    "Evaluate the Performance"
   ]
  },
  {
   "cell_type": "code",
   "execution_count": 37,
   "metadata": {
    "colab": {
     "base_uri": "https://localhost:8080/",
     "height": 167
    },
    "id": "xTUM_qgKWXu3",
    "outputId": "2e7beb7d-e582-4346-988c-71f9aa0f186c"
   },
   "outputs": [
    {
     "name": "stdout",
     "output_type": "stream",
     "text": [
      "Accuracy  : 0.8954403079645171\n",
      "Precision : 0.906163246733776\n",
      "f1Score : 0.8538617313110133\n",
      "[[37067     0     0]\n",
      " [ 4360   383     0]\n",
      " [   13     0     0]]\n"
     ]
    },
    {
     "name": "stderr",
     "output_type": "stream",
     "text": [
      "C:\\Users\\Public\\anaconda3\\lib\\site-packages\\sklearn\\metrics\\_classification.py:1245: UndefinedMetricWarning: Precision is ill-defined and being set to 0.0 in labels with no predicted samples. Use `zero_division` parameter to control this behavior.\n",
      "  _warn_prf(average, modifier, msg_start, len(result))\n"
     ]
    }
   ],
   "source": [
    "cnn_predict=np.argmax(cnnpredictions,axis=1)\n",
    "cnn_actual_value=np.argmax(Y_test,axis=1)\n",
    "showResults(cnn_actual_value, cnn_predict)"
   ]
  },
  {
   "cell_type": "code",
   "execution_count": 38,
   "metadata": {},
   "outputs": [],
   "source": [
    "cnn = accuracy_score(cnn_actual_value, cnn_predict)\n",
    "f1cnn=f1_score(cnn_actual_value, cnn_predict, average='weighted') "
   ]
  },
  {
   "cell_type": "markdown",
   "metadata": {
    "id": "LBZqECBlNz5Q"
   },
   "source": [
    "# KFold VAlidation"
   ]
  },
  {
   "cell_type": "code",
   "execution_count": 40,
   "metadata": {
    "id": "pC3VkS3w-9J-",
    "outputId": "187d8b17-4b8a-4ae1-f854-e041b392c319"
   },
   "outputs": [
    {
     "name": "stdout",
     "output_type": "stream",
     "text": [
      "Results for fold 1\n",
      "Epoch 1/20\n",
      "2614/2614 [==============================] - 4s 2ms/step - loss: 0.0599 - accuracy: 0.9801 - val_loss: 1.2369 - val_accuracy: 0.9008\n",
      "Epoch 2/20\n",
      "2614/2614 [==============================] - 4s 2ms/step - loss: 0.0581 - accuracy: 0.9817 - val_loss: 1.1064 - val_accuracy: 0.9066\n",
      "Epoch 3/20\n",
      "2614/2614 [==============================] - 4s 2ms/step - loss: 0.0527 - accuracy: 0.9834 - val_loss: 1.0212 - val_accuracy: 0.9089\n",
      "Epoch 4/20\n",
      "2614/2614 [==============================] - 4s 2ms/step - loss: 0.0499 - accuracy: 0.9839 - val_loss: 1.2110 - val_accuracy: 0.9089\n",
      "Epoch 5/20\n",
      "2614/2614 [==============================] - 4s 2ms/step - loss: 0.0547 - accuracy: 0.9825 - val_loss: 1.1948 - val_accuracy: 0.9066\n",
      "Epoch 6/20\n",
      "2614/2614 [==============================] - 4s 2ms/step - loss: 0.0544 - accuracy: 0.9828 - val_loss: 0.9662 - val_accuracy: 0.9126\n",
      "Epoch 7/20\n",
      "2614/2614 [==============================] - 4s 2ms/step - loss: 0.0581 - accuracy: 0.9808 - val_loss: 1.1370 - val_accuracy: 0.9066\n",
      "Epoch 8/20\n",
      "2614/2614 [==============================] - 5s 2ms/step - loss: 0.0477 - accuracy: 0.9847 - val_loss: 1.3801 - val_accuracy: 0.9024\n",
      "Epoch 9/20\n",
      "2614/2614 [==============================] - 5s 2ms/step - loss: 0.0502 - accuracy: 0.9838 - val_loss: 1.2529 - val_accuracy: 0.9067\n",
      "Epoch 10/20\n",
      "2614/2614 [==============================] - 4s 2ms/step - loss: 0.0515 - accuracy: 0.9832 - val_loss: 1.2778 - val_accuracy: 0.9048\n",
      "Epoch 11/20\n",
      "2614/2614 [==============================] - 4s 2ms/step - loss: 0.0491 - accuracy: 0.9850 - val_loss: 1.3255 - val_accuracy: 0.9065\n",
      "Epoch 12/20\n",
      "2614/2614 [==============================] - 4s 2ms/step - loss: 0.0564 - accuracy: 0.9823 - val_loss: 1.0574 - val_accuracy: 0.9089\n",
      "Epoch 13/20\n",
      "2614/2614 [==============================] - 4s 2ms/step - loss: 0.0513 - accuracy: 0.9837 - val_loss: 1.3114 - val_accuracy: 0.9073\n",
      "Epoch 14/20\n",
      "2614/2614 [==============================] - 4s 2ms/step - loss: 0.0598 - accuracy: 0.9795 - val_loss: 1.1929 - val_accuracy: 0.9066\n",
      "Epoch 15/20\n",
      "2614/2614 [==============================] - 4s 2ms/step - loss: 0.0456 - accuracy: 0.9855 - val_loss: 1.4540 - val_accuracy: 0.9046\n",
      "Epoch 16/20\n",
      "2614/2614 [==============================] - 4s 2ms/step - loss: 0.0476 - accuracy: 0.9845 - val_loss: 1.2057 - val_accuracy: 0.9074\n",
      "Epoch 17/20\n",
      "2614/2614 [==============================] - 4s 2ms/step - loss: 0.0497 - accuracy: 0.9841 - val_loss: 1.1692 - val_accuracy: 0.9089\n",
      "Epoch 18/20\n",
      "2614/2614 [==============================] - 4s 2ms/step - loss: 0.0505 - accuracy: 0.9840 - val_loss: 1.3460 - val_accuracy: 0.9065\n",
      "Epoch 19/20\n",
      "2614/2614 [==============================] - 4s 2ms/step - loss: 0.0533 - accuracy: 0.9835 - val_loss: 1.2221 - val_accuracy: 0.9067\n",
      "Epoch 20/20\n",
      "2614/2614 [==============================] - 4s 2ms/step - loss: 0.0535 - accuracy: 0.9834 - val_loss: 1.1271 - val_accuracy: 0.9090\n",
      "Accuracy  : 0.9071085287999426\n",
      "Precision : 0.9158344779422406\n",
      "f1Score : 0.8752326223549328\n",
      "[[37242     0     6]\n",
      " [ 3872   687     0]\n",
      " [    7     0     9]]\n",
      "Results for fold 2\n",
      "Epoch 1/20\n",
      "2614/2614 [==============================] - 4s 2ms/step - loss: 0.0500 - accuracy: 0.9843 - val_loss: 1.2384 - val_accuracy: 0.9062\n",
      "Epoch 2/20\n",
      "2614/2614 [==============================] - 4s 2ms/step - loss: 0.0456 - accuracy: 0.9854 - val_loss: 1.2356 - val_accuracy: 0.9089\n",
      "Epoch 3/20\n",
      "2614/2614 [==============================] - 4s 2ms/step - loss: 0.0557 - accuracy: 0.9833 - val_loss: 1.0836 - val_accuracy: 0.9088\n",
      "Epoch 4/20\n",
      "2614/2614 [==============================] - 4s 2ms/step - loss: 0.0459 - accuracy: 0.9853 - val_loss: 0.9629 - val_accuracy: 0.9087\n",
      "Epoch 5/20\n",
      "2614/2614 [==============================] - 4s 2ms/step - loss: 0.0469 - accuracy: 0.9847 - val_loss: 0.9147 - val_accuracy: 0.9096\n",
      "Epoch 6/20\n",
      "2614/2614 [==============================] - 5s 2ms/step - loss: 0.0438 - accuracy: 0.9863 - val_loss: 1.0704 - val_accuracy: 0.9071\n",
      "Epoch 7/20\n",
      "2614/2614 [==============================] - 4s 2ms/step - loss: 0.0475 - accuracy: 0.9849 - val_loss: 1.3391 - val_accuracy: 0.9020\n",
      "Epoch 8/20\n",
      "2614/2614 [==============================] - 4s 2ms/step - loss: 0.0600 - accuracy: 0.9802 - val_loss: 1.0403 - val_accuracy: 0.9048\n",
      "Epoch 9/20\n",
      "2614/2614 [==============================] - 4s 2ms/step - loss: 0.0445 - accuracy: 0.9861 - val_loss: 1.2001 - val_accuracy: 0.9042\n",
      "Epoch 10/20\n",
      "2614/2614 [==============================] - 4s 2ms/step - loss: 0.0440 - accuracy: 0.9860 - val_loss: 0.9797 - val_accuracy: 0.9088\n",
      "Epoch 11/20\n",
      "2614/2614 [==============================] - 4s 2ms/step - loss: 0.0416 - accuracy: 0.9862 - val_loss: 1.0333 - val_accuracy: 0.9043\n",
      "Epoch 12/20\n",
      "2614/2614 [==============================] - 4s 2ms/step - loss: 0.0403 - accuracy: 0.9860 - val_loss: 0.9556 - val_accuracy: 0.9062\n",
      "Epoch 13/20\n",
      "2614/2614 [==============================] - 4s 2ms/step - loss: 0.0382 - accuracy: 0.9862 - val_loss: 0.8650 - val_accuracy: 0.9088\n",
      "Epoch 14/20\n",
      "2614/2614 [==============================] - 4s 2ms/step - loss: 0.0404 - accuracy: 0.9852 - val_loss: 0.9934 - val_accuracy: 0.9063\n",
      "Epoch 15/20\n",
      "2614/2614 [==============================] - 4s 2ms/step - loss: 0.0404 - accuracy: 0.9853 - val_loss: 0.9091 - val_accuracy: 0.9062\n",
      "Epoch 16/20\n",
      "2614/2614 [==============================] - 4s 2ms/step - loss: 0.0353 - accuracy: 0.9873 - val_loss: 0.9876 - val_accuracy: 0.9062\n",
      "Epoch 17/20\n",
      "2614/2614 [==============================] - 4s 2ms/step - loss: 0.0381 - accuracy: 0.9861 - val_loss: 1.0744 - val_accuracy: 0.9041\n",
      "Epoch 18/20\n",
      "2614/2614 [==============================] - 4s 2ms/step - loss: 0.0378 - accuracy: 0.9858 - val_loss: 1.0507 - val_accuracy: 0.9041\n",
      "Epoch 19/20\n",
      "2614/2614 [==============================] - 4s 2ms/step - loss: 0.0382 - accuracy: 0.9857 - val_loss: 0.9011 - val_accuracy: 0.9088\n",
      "Epoch 20/20\n",
      "2614/2614 [==============================] - 4s 2ms/step - loss: 0.0371 - accuracy: 0.9865 - val_loss: 1.0045 - val_accuracy: 0.9063\n",
      "Accuracy  : 0.9063433995648328\n",
      "Precision : 0.9151969583508073\n",
      "f1Score : 0.8725247856631794\n",
      "[[37318     0     0     2]\n",
      " [ 3910   574     0     0]\n",
      " [    1     0     0     0]\n",
      " [    4     0     0    14]]\n",
      "Results for fold 3\n",
      "Epoch 1/20\n",
      "  69/2614 [..............................] - ETA: 3s - loss: 0.0325 - accuracy: 0.9869"
     ]
    },
    {
     "name": "stderr",
     "output_type": "stream",
     "text": [
      "C:\\Users\\Public\\anaconda3\\lib\\site-packages\\sklearn\\metrics\\_classification.py:1245: UndefinedMetricWarning: Precision is ill-defined and being set to 0.0 in labels with no predicted samples. Use `zero_division` parameter to control this behavior.\n",
      "  _warn_prf(average, modifier, msg_start, len(result))\n"
     ]
    },
    {
     "name": "stdout",
     "output_type": "stream",
     "text": [
      "2614/2614 [==============================] - 4s 2ms/step - loss: 0.0374 - accuracy: 0.9860 - val_loss: 0.8973 - val_accuracy: 0.9104\n",
      "Epoch 2/20\n",
      "2614/2614 [==============================] - 4s 2ms/step - loss: 0.0357 - accuracy: 0.9861 - val_loss: 0.9325 - val_accuracy: 0.9104\n",
      "Epoch 3/20\n",
      "2614/2614 [==============================] - 4s 2ms/step - loss: 0.0386 - accuracy: 0.9862 - val_loss: 0.9527 - val_accuracy: 0.9088\n",
      "Epoch 4/20\n",
      "2614/2614 [==============================] - 4s 2ms/step - loss: 0.0356 - accuracy: 0.9867 - val_loss: 1.0903 - val_accuracy: 0.9081\n",
      "Epoch 5/20\n",
      "2614/2614 [==============================] - 4s 2ms/step - loss: 0.0360 - accuracy: 0.9868 - val_loss: 0.9424 - val_accuracy: 0.9104\n",
      "Epoch 6/20\n",
      "2614/2614 [==============================] - 4s 2ms/step - loss: 0.0370 - accuracy: 0.9869 - val_loss: 1.0504 - val_accuracy: 0.9081\n",
      "Epoch 7/20\n",
      "2614/2614 [==============================] - 4s 2ms/step - loss: 0.0352 - accuracy: 0.9874 - val_loss: 1.0677 - val_accuracy: 0.9081\n",
      "Epoch 8/20\n",
      "2614/2614 [==============================] - 4s 2ms/step - loss: 0.0369 - accuracy: 0.9875 - val_loss: 1.0285 - val_accuracy: 0.9081\n",
      "Epoch 9/20\n",
      "2614/2614 [==============================] - 4s 2ms/step - loss: 0.0362 - accuracy: 0.9872 - val_loss: 0.9891 - val_accuracy: 0.9079\n",
      "Epoch 10/20\n",
      "2614/2614 [==============================] - 4s 2ms/step - loss: 0.0349 - accuracy: 0.9877 - val_loss: 1.1261 - val_accuracy: 0.9061\n",
      "Epoch 11/20\n",
      "2614/2614 [==============================] - 4s 2ms/step - loss: 0.0389 - accuracy: 0.9863 - val_loss: 1.1192 - val_accuracy: 0.9062\n",
      "Epoch 12/20\n",
      "2614/2614 [==============================] - 4s 2ms/step - loss: 0.0342 - accuracy: 0.9873 - val_loss: 1.2023 - val_accuracy: 0.9061\n",
      "Epoch 13/20\n",
      "2614/2614 [==============================] - 4s 2ms/step - loss: 0.0360 - accuracy: 0.9870 - val_loss: 1.1072 - val_accuracy: 0.9080\n",
      "Epoch 14/20\n",
      "2614/2614 [==============================] - 4s 2ms/step - loss: 0.0343 - accuracy: 0.9878 - val_loss: 1.2796 - val_accuracy: 0.9039\n",
      "Epoch 15/20\n",
      "2614/2614 [==============================] - 4s 2ms/step - loss: 0.0350 - accuracy: 0.9874 - val_loss: 1.2537 - val_accuracy: 0.9060\n",
      "Epoch 16/20\n",
      "2614/2614 [==============================] - 4s 2ms/step - loss: 0.0343 - accuracy: 0.9877 - val_loss: 1.2704 - val_accuracy: 0.9038\n",
      "Epoch 17/20\n",
      "2614/2614 [==============================] - 4s 2ms/step - loss: 0.0378 - accuracy: 0.9859 - val_loss: 1.1627 - val_accuracy: 0.9079\n",
      "Epoch 18/20\n",
      "2614/2614 [==============================] - 4s 2ms/step - loss: 0.0333 - accuracy: 0.9881 - val_loss: 1.2765 - val_accuracy: 0.9062\n",
      "Epoch 19/20\n",
      "2614/2614 [==============================] - 4s 2ms/step - loss: 0.0350 - accuracy: 0.9881 - val_loss: 1.3478 - val_accuracy: 0.9040\n",
      "Epoch 20/20\n",
      "2614/2614 [==============================] - 4s 2ms/step - loss: 0.0325 - accuracy: 0.9885 - val_loss: 1.3604 - val_accuracy: 0.9061\n",
      "Accuracy  : 0.9061498732724403\n",
      "Precision : 0.915033801952095\n",
      "f1Score : 0.8709866393850996\n",
      "[[37394     0     0     3]\n",
      " [ 3920   490     0     0]\n",
      " [    0     0     0     1]\n",
      " [    1     0     0    13]]\n"
     ]
    },
    {
     "name": "stderr",
     "output_type": "stream",
     "text": [
      "C:\\Users\\Public\\anaconda3\\lib\\site-packages\\sklearn\\metrics\\_classification.py:1245: UndefinedMetricWarning: Precision is ill-defined and being set to 0.0 in labels with no predicted samples. Use `zero_division` parameter to control this behavior.\n",
      "  _warn_prf(average, modifier, msg_start, len(result))\n"
     ]
    }
   ],
   "source": [
    "tempX=train_df.iloc[:,2:9].values\n",
    "tempY=train_df.iloc[:,9].values\n",
    "skf = StratifiedKFold(n_splits=3, shuffle=True)\n",
    "skf.get_n_splits(X_train, target_train)\n",
    "foldNum=0\n",
    "for train_index, val_index in skf.split(X_train, target_train):\n",
    "    foldNum+=1\n",
    "    print(\"Results for fold\",foldNum)\n",
    "    X_traincv, X_valcv = tempX[train_index], tempX[val_index]\n",
    "    Y_traincv, Y_valcv = tempY[train_index], tempY[val_index]\n",
    "\n",
    "    X_traincv=X_traincv.reshape(X_traincv.shape[0],X_traincv.shape[1],1)\n",
    "    X_valcv=X_valcv.reshape(X_valcv.shape[0],X_valcv.shape[1],1)\n",
    "    # one hot encode\n",
    "    Y_traincv = to_categorical(Y_traincv)\n",
    "    Y_valcv = to_categorical(Y_valcv)\n",
    "    \n",
    "    history = cnnmodel.fit(X_traincv, Y_traincv, validation_data = (X_valcv, Y_valcv), epochs=20, batch_size=batch_size)  \n",
    "    yPredict = cnnmodel.predict(X_valcv)\n",
    "\n",
    "    #Converting one hot encoded test label to label    \n",
    "    pred = np.argmax(yPredict, axis=1)\n",
    "    val = np.argmax(Y_valcv, axis=1)\n",
    "    \n",
    "    showResults(val, pred)"
   ]
  },
  {
   "cell_type": "markdown",
   "metadata": {
    "id": "XMvm0_6FIBfI"
   },
   "source": [
    "Test the Model"
   ]
  },
  {
   "cell_type": "code",
   "execution_count": 41,
   "metadata": {
    "id": "7nuWEKvR-6dz",
    "outputId": "396e619c-eeb1-43d9-d518-f69b5306e4c0"
   },
   "outputs": [
    {
     "name": "stdout",
     "output_type": "stream",
     "text": [
      "1307/1307 [==============================] - 1s 463us/step\n"
     ]
    }
   ],
   "source": [
    "cnnpredictionscv = cnnmodel.predict(X_test, verbose=1)"
   ]
  },
  {
   "cell_type": "markdown",
   "metadata": {
    "id": "MFbYFwXHIC_e"
   },
   "source": [
    "Evaluate the Performance"
   ]
  },
  {
   "cell_type": "code",
   "execution_count": 42,
   "metadata": {
    "id": "eDLDqdVkG5es",
    "outputId": "cfcfc301-63c6-4095-f249-e146786a7991"
   },
   "outputs": [
    {
     "name": "stdout",
     "output_type": "stream",
     "text": [
      "Accuracy  : 0.8996724290462186\n",
      "Precision : 0.9098474701806231\n",
      "f1Score : 0.8627765492068056\n",
      "[[37063     0     4]\n",
      " [ 4188   555     0]\n",
      " [    4     0     9]]\n"
     ]
    }
   ],
   "source": [
    "cnn_predictcv=np.argmax(cnnpredictionscv,axis=1)\n",
    "cnn_actual_valuecv=np.argmax(Y_test,axis=1)\n",
    "showResults(cnn_actual_valuecv, cnn_predictcv)"
   ]
  },
  {
   "cell_type": "code",
   "execution_count": 43,
   "metadata": {},
   "outputs": [],
   "source": [
    "cnnkv = accuracy_score(cnn_actual_valuecv, cnn_predictcv)\n",
    "f1cnnkv=f1_score(cnn_actual_valuecv, cnn_predictcv, average='weighted') "
   ]
  },
  {
   "cell_type": "markdown",
   "metadata": {
    "id": "tpfEQWDKQnJp"
   },
   "source": [
    "# **Hybrid CNN LSTM**"
   ]
  },
  {
   "cell_type": "code",
   "execution_count": 44,
   "metadata": {
    "colab": {
     "base_uri": "https://localhost:8080/"
    },
    "id": "c25hK2HFNz5S",
    "outputId": "1498eebe-2a95-4b78-d650-2880534320a8"
   },
   "outputs": [
    {
     "name": "stdout",
     "output_type": "stream",
     "text": [
      "Model: \"sequential\"\n",
      "_________________________________________________________________\n",
      "Layer (type)                 Output Shape              Param #   \n",
      "=================================================================\n",
      "conv1d (Conv1D)              (None, 7, 64)             384       \n",
      "_________________________________________________________________\n",
      "max_pooling1d (MaxPooling1D) (None, 6, 64)             0         \n",
      "_________________________________________________________________\n",
      "conv1d_1 (Conv1D)            (None, 6, 32)             6176      \n",
      "_________________________________________________________________\n",
      "max_pooling1d_1 (MaxPooling1 (None, 5, 32)             0         \n",
      "_________________________________________________________________\n",
      "lstm (LSTM)                  (None, 5, 128)            82432     \n",
      "_________________________________________________________________\n",
      "flatten (Flatten)            (None, 640)               0         \n",
      "_________________________________________________________________\n",
      "dense (Dense)                (None, 128)               82048     \n",
      "_________________________________________________________________\n",
      "dropout (Dropout)            (None, 128)               0         \n",
      "_________________________________________________________________\n",
      "dense_1 (Dense)              (None, 32)                4128      \n",
      "_________________________________________________________________\n",
      "dropout_1 (Dropout)          (None, 32)                0         \n",
      "_________________________________________________________________\n",
      "dense_2 (Dense)              (None, 4)                 132       \n",
      "=================================================================\n",
      "Total params: 175,300\n",
      "Trainable params: 175,300\n",
      "Non-trainable params: 0\n",
      "_________________________________________________________________\n"
     ]
    }
   ],
   "source": [
    "import tensorflow as tf\n",
    "tf.keras.backend.clear_session()\n",
    "\n",
    "model = tf.keras.models.Sequential([tf.keras.layers.Conv1D(filters=64,kernel_size=5,strides=1,padding=\"causal\",activation=\"relu\",input_shape=(X_train.shape[1],X_train.shape[2])),\n",
    "    tf.keras.layers.MaxPooling1D(pool_size=2, strides=1, padding=\"valid\"),\n",
    "    tf.keras.layers.Conv1D(filters=32, kernel_size=3, strides=1, padding=\"causal\", activation=\"relu\"),\n",
    "    tf.keras.layers.MaxPooling1D(pool_size=2, strides=1, padding=\"valid\"),\n",
    "    tf.keras.layers.LSTM(128, return_sequences=True),\n",
    "    tf.keras.layers.Flatten(),\n",
    "    tf.keras.layers.Dense(128, activation=\"relu\"),\n",
    "    tf.keras.layers.Dropout(0.2),\n",
    "    tf.keras.layers.Dense(32, activation=\"relu\"),\n",
    "    tf.keras.layers.Dropout(0.1),\n",
    "    tf.keras.layers.Dense(4)\n",
    "])\n",
    "\n",
    "lr_schedule = tf.keras.optimizers.schedules.ExponentialDecay(5e-4,\n",
    "                                                             decay_steps=1000000,\n",
    "                                                             decay_rate=0.98,\n",
    "                                                             staircase=False)\n",
    "\n",
    "model.compile(loss=tf.keras.losses.MeanSquaredError(),\n",
    "              optimizer=tf.keras.optimizers.SGD(learning_rate=lr_schedule, momentum=0.8),\n",
    "              metrics=['acc'])\n",
    "model.summary()"
   ]
  },
  {
   "cell_type": "code",
   "execution_count": 45,
   "metadata": {
    "colab": {
     "base_uri": "https://localhost:8080/"
    },
    "id": "hrkM7YeSNz5T",
    "outputId": "5591d0a7-ab22-47c6-8f87-05179ee2aa21"
   },
   "outputs": [
    {
     "name": "stdout",
     "output_type": "stream",
     "text": [
      "Epoch 1/10\n",
      "3921/3921 [==============================] - 17s 4ms/step - loss: 0.0528 - acc: 0.8869\n",
      "Epoch 2/10\n",
      "3921/3921 [==============================] - 17s 4ms/step - loss: 0.0306 - acc: 0.9333\n",
      "Epoch 3/10\n",
      "3921/3921 [==============================] - 17s 4ms/step - loss: 0.0196 - acc: 0.9729\n",
      "Epoch 4/10\n",
      "3921/3921 [==============================] - 17s 4ms/step - loss: 0.0140 - acc: 0.9835\n",
      "Epoch 5/10\n",
      "3921/3921 [==============================] - 17s 4ms/step - loss: 0.0113 - acc: 0.9875\n",
      "Epoch 6/10\n",
      "3921/3921 [==============================] - 17s 4ms/step - loss: 0.0099 - acc: 0.9886\n",
      "Epoch 7/10\n",
      "3921/3921 [==============================] - 17s 4ms/step - loss: 0.0087 - acc: 0.9903\n",
      "Epoch 8/10\n",
      "3921/3921 [==============================] - 17s 4ms/step - loss: 0.0080 - acc: 0.9912\n",
      "Epoch 9/10\n",
      "3921/3921 [==============================] - 17s 4ms/step - loss: 0.0074 - acc: 0.9918\n",
      "Epoch 10/10\n",
      "3921/3921 [==============================] - 17s 4ms/step - loss: 0.0068 - acc: 0.9929\n"
     ]
    }
   ],
   "source": [
    "history = model.fit(X_train, Y_train,epochs=10)"
   ]
  },
  {
   "cell_type": "code",
   "execution_count": 46,
   "metadata": {
    "colab": {
     "base_uri": "https://localhost:8080/",
     "height": 573
    },
    "id": "6iXwLjN0R52X",
    "outputId": "29eb6cdd-3ee9-469f-c9fe-e4590a45456f"
   },
   "outputs": [
    {
     "data": {
      "image/png": "[encoded data removed]",
      "text/plain": [
       "<Figure size 432x288 with 1 Axes>"
      ]
     },
     "metadata": {
      "needs_background": "light"
     },
     "output_type": "display_data"
    },
    {
     "data": {
      "image/png": "[encoded data removed]",
      "text/plain": [
       "<Figure size 432x288 with 1 Axes>"
      ]
     },
     "metadata": {
      "needs_background": "light"
     },
     "output_type": "display_data"
    }
   ],
   "source": [
    "# Plot training & validation loss values\n",
    "plt.plot(history.history['loss'])\n",
    "plt.title('Model loss')\n",
    "plt.ylabel('Loss')\n",
    "plt.xlabel('Epoch')\n",
    "plt.legend(['Train', 'Validation'], loc='upper left')\n",
    "plt.savefig('loss.png', format='png', dpi=1200)\n",
    "plt.show()\n",
    "\n",
    "\n",
    "# Plot training & validation accuracy values\n",
    "plt.plot(history.history['acc'])\n",
    "plt.title('Model accuracy')\n",
    "plt.ylabel('Accuracy')\n",
    "plt.xlabel('Epoch')\n",
    "plt.legend(['Train', 'Validation'], loc='upper left')\n",
    "plt.savefig('accuracy.png', format='png', dpi=1200)\n",
    "plt.show()"
   ]
  },
  {
   "cell_type": "code",
   "execution_count": 47,
   "metadata": {
    "colab": {
     "base_uri": "https://localhost:8080/"
    },
    "id": "D7RvRFv2SXMh",
    "outputId": "86f8aff9-4164-4d27-cf4a-8aaa369a0961"
   },
   "outputs": [
    {
     "name": "stdout",
     "output_type": "stream",
     "text": [
      "1307/1307 [==============================] - 2s 2ms/step\n"
     ]
    }
   ],
   "source": [
    "predictions = model.predict(X_test, verbose=1)"
   ]
  },
  {
   "cell_type": "code",
   "execution_count": 48,
   "metadata": {
    "colab": {
     "base_uri": "https://localhost:8080/"
    },
    "id": "DchZw6KDSeaE",
    "outputId": "007b9bfe-0abf-4856-8a7a-4e69714214ad"
   },
   "outputs": [
    {
     "name": "stdout",
     "output_type": "stream",
     "text": [
      "Accuracy  : 0.9996891662482367\n",
      "Precision : 0.9993784414727076\n",
      "f1Score : 0.9995337766211903\n",
      "[[37067     0     0]\n",
      " [    0  4743     0]\n",
      " [   13     0     0]]\n"
     ]
    },
    {
     "name": "stderr",
     "output_type": "stream",
     "text": [
      "C:\\Users\\Public\\anaconda3\\lib\\site-packages\\sklearn\\metrics\\_classification.py:1245: UndefinedMetricWarning: Precision is ill-defined and being set to 0.0 in labels with no predicted samples. Use `zero_division` parameter to control this behavior.\n",
      "  _warn_prf(average, modifier, msg_start, len(result))\n"
     ]
    }
   ],
   "source": [
    "predictcv=np.argmax(predictions,axis=1)\n",
    "actual_valuecv=np.argmax(Y_test,axis=1)\n",
    "showResults(actual_valuecv, predictcv)"
   ]
  },
  {
   "cell_type": "code",
   "execution_count": 49,
   "metadata": {},
   "outputs": [],
   "source": [
    "hyd = accuracy_score(actual_valuecv, predictcv)\n",
    "f1hyd=f1_score(actual_valuecv, predictcv, average='weighted') "
   ]
  },
  {
   "cell_type": "markdown",
   "metadata": {},
   "source": [
    "# LSTM"
   ]
  },
  {
   "cell_type": "code",
   "execution_count": 50,
   "metadata": {},
   "outputs": [],
   "source": [
    "from keras.callbacks import EarlyStopping\n",
    "import math\n",
    "from keras.models import Sequential\n",
    "from keras.layers.core import Dense,Activation,Dropout\n",
    "from keras.layers import LSTM"
   ]
  },
  {
   "cell_type": "code",
   "execution_count": 51,
   "metadata": {},
   "outputs": [
    {
     "name": "stdout",
     "output_type": "stream",
     "text": [
      "Model: \"sequential_1\"\n",
      "_________________________________________________________________\n",
      "Layer (type)                 Output Shape              Param #   \n",
      "=================================================================\n",
      "lstm_1 (LSTM)                (None, 13)                780       \n",
      "_________________________________________________________________\n",
      "dense_3 (Dense)              (None, 4)                 56        \n",
      "_________________________________________________________________\n",
      "activation (Activation)      (None, 4)                 0         \n",
      "=================================================================\n",
      "Total params: 836\n",
      "Trainable params: 836\n",
      "Non-trainable params: 0\n",
      "_________________________________________________________________\n"
     ]
    }
   ],
   "source": [
    "es=EarlyStopping(patience=7)\n",
    "model=Sequential()\n",
    "model.add(LSTM(13,input_shape=(X_train.shape[1],X_train.shape[2])))\n",
    "model.add(Dense(units=4))\n",
    "model.add(Activation('sigmoid'))\n",
    "model.compile(loss=tf.keras.losses.MeanSquaredError(),\n",
    "              optimizer=tf.keras.optimizers.SGD(learning_rate=lr_schedule, momentum=0.8),\n",
    "              metrics=['acc'])\n",
    "model.summary()"
   ]
  },
  {
   "cell_type": "code",
   "execution_count": 52,
   "metadata": {},
   "outputs": [
    {
     "name": "stdout",
     "output_type": "stream",
     "text": [
      "Epoch 1/10\n",
      "3921/3921 [==============================] - 10s 2ms/step - loss: 0.1427 - acc: 0.8867\n",
      "Epoch 2/10\n",
      "3921/3921 [==============================] - 9s 2ms/step - loss: 0.0735 - acc: 0.8867\n",
      "Epoch 3/10\n",
      "3921/3921 [==============================] - 9s 2ms/step - loss: 0.0608 - acc: 0.8867\n",
      "Epoch 4/10\n",
      "3921/3921 [==============================] - 9s 2ms/step - loss: 0.0564 - acc: 0.8867\n",
      "Epoch 5/10\n",
      "3921/3921 [==============================] - 9s 2ms/step - loss: 0.0544 - acc: 0.8867\n",
      "Epoch 6/10\n",
      "3921/3921 [==============================] - 9s 2ms/step - loss: 0.0532 - acc: 0.8867\n",
      "Epoch 7/10\n",
      "3921/3921 [==============================] - 9s 2ms/step - loss: 0.0525 - acc: 0.8867\n",
      "Epoch 8/10\n",
      "3921/3921 [==============================] - 9s 2ms/step - loss: 0.0520 - acc: 0.8867\n",
      "Epoch 9/10\n",
      "3921/3921 [==============================] - 9s 2ms/step - loss: 0.0517 - acc: 0.8867\n",
      "Epoch 10/10\n",
      "3921/3921 [==============================] - 10s 2ms/step - loss: 0.0515 - acc: 0.8867\n"
     ]
    }
   ],
   "source": [
    "history = model.fit(X_train, Y_train,epochs=10)"
   ]
  },
  {
   "cell_type": "code",
   "execution_count": 53,
   "metadata": {},
   "outputs": [
    {
     "data": {
      "image/png": "[encoded data removed]",
      "text/plain": [
       "<Figure size 432x288 with 1 Axes>"
      ]
     },
     "metadata": {
      "needs_background": "light"
     },
     "output_type": "display_data"
    },
    {
     "data": {
      "image/png": "[encoded data removed]",
      "text/plain": [
       "<Figure size 432x288 with 1 Axes>"
      ]
     },
     "metadata": {
      "needs_background": "light"
     },
     "output_type": "display_data"
    }
   ],
   "source": [
    "# Plot training & validation loss values\n",
    "plt.plot(history.history['loss'])\n",
    "plt.title('Model loss')\n",
    "plt.ylabel('Loss')\n",
    "plt.xlabel('Epoch')\n",
    "plt.legend(['Train', 'Validation'], loc='upper left')\n",
    "plt.savefig('loss.png', format='png', dpi=1200)\n",
    "plt.show()\n",
    "\n",
    "\n",
    "# Plot training & validation accuracy values\n",
    "plt.plot(history.history['acc'])\n",
    "plt.title('Model accuracy')\n",
    "plt.ylabel('Accuracy')\n",
    "plt.xlabel('Epoch')\n",
    "plt.legend(['Train', 'Validation'], loc='upper left')\n",
    "plt.savefig('accuracy.png', format='png', dpi=1200)\n",
    "plt.show()"
   ]
  },
  {
   "cell_type": "code",
   "execution_count": 54,
   "metadata": {},
   "outputs": [
    {
     "name": "stdout",
     "output_type": "stream",
     "text": [
      "1307/1307 [==============================] - 1s 852us/step\n"
     ]
    }
   ],
   "source": [
    "predictions = model.predict(X_test, verbose=1)"
   ]
  },
  {
   "cell_type": "code",
   "execution_count": 55,
   "metadata": {},
   "outputs": [
    {
     "name": "stdout",
     "output_type": "stream",
     "text": [
      "Accuracy  : 0.886282667431796\n",
      "Precision : 0.7854969665900194\n",
      "f1Score : 0.8328518097019743\n",
      "[[37067     0     0]\n",
      " [ 4743     0     0]\n",
      " [   13     0     0]]\n"
     ]
    },
    {
     "name": "stderr",
     "output_type": "stream",
     "text": [
      "C:\\Users\\Public\\anaconda3\\lib\\site-packages\\sklearn\\metrics\\_classification.py:1245: UndefinedMetricWarning: Precision is ill-defined and being set to 0.0 in labels with no predicted samples. Use `zero_division` parameter to control this behavior.\n",
      "  _warn_prf(average, modifier, msg_start, len(result))\n"
     ]
    }
   ],
   "source": [
    "predictcv=np.argmax(predictions,axis=1)\n",
    "actual_valuecv=np.argmax(Y_test,axis=1)\n",
    "showResults(actual_valuecv, predictcv)"
   ]
  },
  {
   "cell_type": "code",
   "execution_count": 56,
   "metadata": {},
   "outputs": [],
   "source": [
    "lstm = accuracy_score(actual_valuecv, predictcv)\n",
    "f1lstm=f1_score(actual_valuecv, predictcv, average='weighted') "
   ]
  },
  {
   "cell_type": "markdown",
   "metadata": {},
   "source": [
    "# BiLSTM"
   ]
  },
  {
   "cell_type": "code",
   "execution_count": 57,
   "metadata": {},
   "outputs": [],
   "source": [
    "from keras.layers import Dense, Dropout, Embedding, LSTM, Bidirectional"
   ]
  },
  {
   "cell_type": "code",
   "execution_count": 58,
   "metadata": {},
   "outputs": [],
   "source": [
    "es=EarlyStopping(patience=7)\n",
    "model=Sequential()\n",
    "model.add(Bidirectional(LSTM(13,input_shape=(X_train.shape[1],X_train.shape[2]))))\n",
    "model.add(Dense(units=4))\n",
    "model.add(Activation('sigmoid'))\n",
    "model.compile(loss=tf.keras.losses.MeanSquaredError(),\n",
    "              optimizer=tf.keras.optimizers.SGD(learning_rate=lr_schedule, momentum=0.8),\n",
    "              metrics=['acc'])\n"
   ]
  },
  {
   "cell_type": "code",
   "execution_count": 59,
   "metadata": {},
   "outputs": [
    {
     "name": "stdout",
     "output_type": "stream",
     "text": [
      "Epoch 1/10\n",
      "3921/3921 [==============================] - 10s 2ms/step - loss: 0.0893 - acc: 0.8741\n",
      "Epoch 2/10\n",
      "3921/3921 [==============================] - 9s 2ms/step - loss: 0.0598 - acc: 0.8867\n",
      "Epoch 3/10\n",
      "3921/3921 [==============================] - 10s 2ms/step - loss: 0.0548 - acc: 0.8867: 0s - loss: 0.0548 - acc: 0.8\n",
      "Epoch 4/10\n",
      "3921/3921 [==============================] - 9s 2ms/step - loss: 0.0533 - acc: 0.8867\n",
      "Epoch 5/10\n",
      "3921/3921 [==============================] - 9s 2ms/step - loss: 0.0525 - acc: 0.8867\n",
      "Epoch 6/10\n",
      "3921/3921 [==============================] - 10s 2ms/step - loss: 0.0520 - acc: 0.8867\n",
      "Epoch 7/10\n",
      "3921/3921 [==============================] - 10s 2ms/step - loss: 0.0517 - acc: 0.8867\n",
      "Epoch 8/10\n",
      "3921/3921 [==============================] - 10s 2ms/step - loss: 0.0515 - acc: 0.8867\n",
      "Epoch 9/10\n",
      "3921/3921 [==============================] - 10s 2ms/step - loss: 0.0513 - acc: 0.8867\n",
      "Epoch 10/10\n",
      "3921/3921 [==============================] - 10s 2ms/step - loss: 0.0512 - acc: 0.8867\n"
     ]
    }
   ],
   "source": [
    "history = model.fit(X_train, Y_train,epochs=10)"
   ]
  },
  {
   "cell_type": "code",
   "execution_count": 60,
   "metadata": {},
   "outputs": [
    {
     "data": {
      "image/png": "[encoded data removed]",
      "text/plain": [
       "<Figure size 432x288 with 1 Axes>"
      ]
     },
     "metadata": {
      "needs_background": "light"
     },
     "output_type": "display_data"
    },
    {
     "data": {
      "image/png": "[encoded data removed]",
      "text/plain": [
       "<Figure size 432x288 with 1 Axes>"
      ]
     },
     "metadata": {
      "needs_background": "light"
     },
     "output_type": "display_data"
    }
   ],
   "source": [
    "# Plot training & validation loss values\n",
    "plt.plot(history.history['loss'])\n",
    "plt.title('Model loss')\n",
    "plt.ylabel('Loss')\n",
    "plt.xlabel('Epoch')\n",
    "plt.legend(['Train', 'Validation'], loc='upper left')\n",
    "plt.savefig('loss.png', format='png', dpi=1200)\n",
    "plt.show()\n",
    "\n",
    "\n",
    "# Plot training & validation accuracy values\n",
    "plt.plot(history.history['acc'])\n",
    "plt.title('Model accuracy')\n",
    "plt.ylabel('Accuracy')\n",
    "plt.xlabel('Epoch')\n",
    "plt.legend(['Train', 'Validation'], loc='upper left')\n",
    "plt.savefig('accuracy.png', format='png', dpi=1200)\n",
    "plt.show()"
   ]
  },
  {
   "cell_type": "code",
   "execution_count": 61,
   "metadata": {},
   "outputs": [
    {
     "name": "stdout",
     "output_type": "stream",
     "text": [
      "1307/1307 [==============================] - 1s 881us/step\n"
     ]
    }
   ],
   "source": [
    "predictions = model.predict(X_test, verbose=1)"
   ]
  },
  {
   "cell_type": "code",
   "execution_count": 62,
   "metadata": {},
   "outputs": [
    {
     "name": "stdout",
     "output_type": "stream",
     "text": [
      "Accuracy  : 0.886282667431796\n",
      "Precision : 0.7854969665900194\n",
      "f1Score : 0.8328518097019743\n",
      "[[37067     0     0]\n",
      " [ 4743     0     0]\n",
      " [   13     0     0]]\n"
     ]
    },
    {
     "name": "stderr",
     "output_type": "stream",
     "text": [
      "C:\\Users\\Public\\anaconda3\\lib\\site-packages\\sklearn\\metrics\\_classification.py:1245: UndefinedMetricWarning: Precision is ill-defined and being set to 0.0 in labels with no predicted samples. Use `zero_division` parameter to control this behavior.\n",
      "  _warn_prf(average, modifier, msg_start, len(result))\n"
     ]
    }
   ],
   "source": [
    "predictcv=np.argmax(predictions,axis=1)\n",
    "actual_valuecv=np.argmax(Y_test,axis=1)\n",
    "showResults(actual_valuecv, predictcv)"
   ]
  },
  {
   "cell_type": "code",
   "execution_count": 63,
   "metadata": {},
   "outputs": [],
   "source": [
    "bilstm = accuracy_score(actual_valuecv, predictcv)\n",
    "f1bilstm=f1_score(actual_valuecv, predictcv, average='weighted') "
   ]
  },
  {
   "cell_type": "markdown",
   "metadata": {},
   "source": [
    "# RNN"
   ]
  },
  {
   "cell_type": "code",
   "execution_count": 64,
   "metadata": {},
   "outputs": [],
   "source": [
    "from keras.layers import Dense, Dropout, Embedding, SimpleRNN"
   ]
  },
  {
   "cell_type": "code",
   "execution_count": 65,
   "metadata": {},
   "outputs": [],
   "source": [
    "es=EarlyStopping(patience=7)\n",
    "model=Sequential()\n",
    "model.add(SimpleRNN(13,input_shape=(X_train.shape[1],X_train.shape[2])))\n",
    "model.add(Dense(units=4))\n",
    "model.add(Activation('sigmoid'))\n",
    "model.compile(loss=tf.keras.losses.MeanSquaredError(),\n",
    "              optimizer=tf.keras.optimizers.SGD(learning_rate=lr_schedule, momentum=0.8),\n",
    "              metrics=['acc'])\n"
   ]
  },
  {
   "cell_type": "code",
   "execution_count": 66,
   "metadata": {},
   "outputs": [
    {
     "name": "stdout",
     "output_type": "stream",
     "text": [
      "Model: \"sequential_3\"\n",
      "_________________________________________________________________\n",
      "Layer (type)                 Output Shape              Param #   \n",
      "=================================================================\n",
      "simple_rnn (SimpleRNN)       (None, 13)                195       \n",
      "_________________________________________________________________\n",
      "dense_5 (Dense)              (None, 4)                 56        \n",
      "_________________________________________________________________\n",
      "activation_2 (Activation)    (None, 4)                 0         \n",
      "=================================================================\n",
      "Total params: 251\n",
      "Trainable params: 251\n",
      "Non-trainable params: 0\n",
      "_________________________________________________________________\n"
     ]
    }
   ],
   "source": [
    "model.summary()"
   ]
  },
  {
   "cell_type": "code",
   "execution_count": 67,
   "metadata": {},
   "outputs": [
    {
     "name": "stdout",
     "output_type": "stream",
     "text": [
      "Epoch 1/10\n",
      "3921/3921 [==============================] - 5s 1ms/step - loss: 0.0933 - acc: 0.8494\n",
      "Epoch 2/10\n",
      "3921/3921 [==============================] - 5s 1ms/step - loss: 0.0553 - acc: 0.8867\n",
      "Epoch 3/10\n",
      "3921/3921 [==============================] - 4s 1ms/step - loss: 0.0525 - acc: 0.8867\n",
      "Epoch 4/10\n",
      "3921/3921 [==============================] - 4s 1ms/step - loss: 0.0514 - acc: 0.8867\n",
      "Epoch 5/10\n",
      "3921/3921 [==============================] - 4s 1ms/step - loss: 0.0509 - acc: 0.8867\n",
      "Epoch 6/10\n",
      "3921/3921 [==============================] - 4s 1ms/step - loss: 0.0506 - acc: 0.8867\n",
      "Epoch 7/10\n",
      "3921/3921 [==============================] - 4s 1ms/step - loss: 0.0504 - acc: 0.8867\n",
      "Epoch 8/10\n",
      "3921/3921 [==============================] - 4s 1ms/step - loss: 0.0502 - acc: 0.8867\n",
      "Epoch 9/10\n",
      "3921/3921 [==============================] - 4s 1ms/step - loss: 0.0501 - acc: 0.8867\n",
      "Epoch 10/10\n",
      "3921/3921 [==============================] - 4s 1ms/step - loss: 0.0500 - acc: 0.8867\n"
     ]
    }
   ],
   "source": [
    "history = model.fit(X_train, Y_train,epochs=10)"
   ]
  },
  {
   "cell_type": "code",
   "execution_count": 68,
   "metadata": {},
   "outputs": [
    {
     "data": {
      "image/png": "[encoded data removed]",
      "text/plain": [
       "<Figure size 432x288 with 1 Axes>"
      ]
     },
     "metadata": {
      "needs_background": "light"
     },
     "output_type": "display_data"
    },
    {
     "data": {
      "image/png": "[encoded data removed]",
      "text/plain": [
       "<Figure size 432x288 with 1 Axes>"
      ]
     },
     "metadata": {
      "needs_background": "light"
     },
     "output_type": "display_data"
    }
   ],
   "source": [
    "# Plot training & validation loss values\n",
    "plt.plot(history.history['loss'])\n",
    "plt.title('Model loss')\n",
    "plt.ylabel('Loss')\n",
    "plt.xlabel('Epoch')\n",
    "plt.legend(['Train', 'Validation'], loc='upper left')\n",
    "plt.savefig('loss.png', format='png', dpi=1200)\n",
    "plt.show()\n",
    "\n",
    "\n",
    "# Plot training & validation accuracy values\n",
    "plt.plot(history.history['acc'])\n",
    "plt.title('Model accuracy')\n",
    "plt.ylabel('Accuracy')\n",
    "plt.xlabel('Epoch')\n",
    "plt.legend(['Train', 'Validation'], loc='upper left')\n",
    "plt.savefig('accuracy.png', format='png', dpi=1200)\n",
    "plt.show()"
   ]
  },
  {
   "cell_type": "code",
   "execution_count": 69,
   "metadata": {},
   "outputs": [
    {
     "name": "stdout",
     "output_type": "stream",
     "text": [
      "   1/1307 [..............................] - ETA: 0sWARNING:tensorflow:Callbacks method `on_predict_batch_end` is slow compared to the batch time (batch time: 0.0000s vs `on_predict_batch_end` time: 0.0010s). Check your callbacks.\n",
      "1307/1307 [==============================] - 1s 664us/step\n"
     ]
    }
   ],
   "source": [
    "predictions = model.predict(X_test, verbose=1)"
   ]
  },
  {
   "cell_type": "code",
   "execution_count": 70,
   "metadata": {},
   "outputs": [
    {
     "name": "stdout",
     "output_type": "stream",
     "text": [
      "Accuracy  : 0.886282667431796\n",
      "Precision : 0.7854969665900194\n",
      "f1Score : 0.8328518097019743\n",
      "[[37067     0     0]\n",
      " [ 4743     0     0]\n",
      " [   13     0     0]]\n"
     ]
    },
    {
     "name": "stderr",
     "output_type": "stream",
     "text": [
      "C:\\Users\\Public\\anaconda3\\lib\\site-packages\\sklearn\\metrics\\_classification.py:1245: UndefinedMetricWarning: Precision is ill-defined and being set to 0.0 in labels with no predicted samples. Use `zero_division` parameter to control this behavior.\n",
      "  _warn_prf(average, modifier, msg_start, len(result))\n"
     ]
    }
   ],
   "source": [
    "predictcv=np.argmax(predictions,axis=1)\n",
    "actual_valuecv=np.argmax(Y_test,axis=1)\n",
    "showResults(actual_valuecv, predictcv)"
   ]
  },
  {
   "cell_type": "code",
   "execution_count": 71,
   "metadata": {},
   "outputs": [],
   "source": [
    "rnn = accuracy_score(actual_valuecv, predictcv)\n",
    "f1rnn=f1_score(actual_valuecv, predictcv, average='weighted') "
   ]
  },
  {
   "cell_type": "markdown",
   "metadata": {},
   "source": [
    "# GRU"
   ]
  },
  {
   "cell_type": "code",
   "execution_count": 72,
   "metadata": {},
   "outputs": [
    {
     "name": "stdout",
     "output_type": "stream",
     "text": [
      "Model: \"sequential_4\"\n",
      "_________________________________________________________________\n",
      "Layer (type)                 Output Shape              Param #   \n",
      "=================================================================\n",
      "gru (GRU)                    (None, 13)                624       \n",
      "_________________________________________________________________\n",
      "dense_6 (Dense)              (None, 4)                 56        \n",
      "_________________________________________________________________\n",
      "activation_3 (Activation)    (None, 4)                 0         \n",
      "=================================================================\n",
      "Total params: 680\n",
      "Trainable params: 680\n",
      "Non-trainable params: 0\n",
      "_________________________________________________________________\n"
     ]
    }
   ],
   "source": [
    "from keras.layers import Dense, Dropout, Embedding, GRU\n",
    "es=EarlyStopping(patience=7)\n",
    "model=Sequential()\n",
    "model.add(GRU(13,input_shape=(X_train.shape[1],X_train.shape[2])))\n",
    "model.add(Dense(units=4))\n",
    "model.add(Activation('sigmoid'))\n",
    "model.compile(loss='squared_hinge',\n",
    "              optimizer=tf.keras.optimizers.SGD(learning_rate=lr_schedule, momentum=0.8),\n",
    "              metrics=['acc'])\n",
    "model.summary()"
   ]
  },
  {
   "cell_type": "code",
   "execution_count": 73,
   "metadata": {},
   "outputs": [
    {
     "name": "stdout",
     "output_type": "stream",
     "text": [
      "Epoch 1/10\n",
      "3921/3921 [==============================] - 11s 3ms/step - loss: 1.0464 - acc: 0.8431\n",
      "Epoch 2/10\n",
      "3921/3921 [==============================] - 11s 3ms/step - loss: 0.8803 - acc: 0.8867\n",
      "Epoch 3/10\n",
      "3921/3921 [==============================] - 11s 3ms/step - loss: 0.8659 - acc: 0.8867\n",
      "Epoch 4/10\n",
      "3921/3921 [==============================] - 11s 3ms/step - loss: 0.8606 - acc: 0.8867\n",
      "Epoch 5/10\n",
      "3921/3921 [==============================] - 11s 3ms/step - loss: 0.8578 - acc: 0.8867\n",
      "Epoch 6/10\n",
      "3921/3921 [==============================] - 11s 3ms/step - loss: 0.8561 - acc: 0.8867\n",
      "Epoch 7/10\n",
      "3921/3921 [==============================] - 11s 3ms/step - loss: 0.8549 - acc: 0.8867\n",
      "Epoch 8/10\n",
      "3921/3921 [==============================] - 11s 3ms/step - loss: 0.8540 - acc: 0.8867\n",
      "Epoch 9/10\n",
      "3921/3921 [==============================] - 11s 3ms/step - loss: 0.8533 - acc: 0.8867\n",
      "Epoch 10/10\n",
      "3921/3921 [==============================] - 11s 3ms/step - loss: 0.8528 - acc: 0.8867\n"
     ]
    }
   ],
   "source": [
    "history = model.fit(X_train, Y_train,epochs=10)"
   ]
  },
  {
   "cell_type": "code",
   "execution_count": 74,
   "metadata": {},
   "outputs": [
    {
     "data": {
      "image/png": "[encoded data removed]",
      "text/plain": [
       "<Figure size 432x288 with 1 Axes>"
      ]
     },
     "metadata": {
      "needs_background": "light"
     },
     "output_type": "display_data"
    },
    {
     "data": {
      "image/png": "[encoded data removed]",
      "text/plain": [
       "<Figure size 432x288 with 1 Axes>"
      ]
     },
     "metadata": {
      "needs_background": "light"
     },
     "output_type": "display_data"
    }
   ],
   "source": [
    "# Plot training & validation loss values\n",
    "plt.plot(history.history['loss'])\n",
    "plt.title('Model loss')\n",
    "plt.ylabel('Loss')\n",
    "plt.xlabel('Epoch')\n",
    "plt.legend(['Train', 'Validation'], loc='upper left')\n",
    "plt.savefig('loss.png', format='png', dpi=1200)\n",
    "plt.show()\n",
    "\n",
    "\n",
    "# Plot training & validation accuracy values\n",
    "plt.plot(history.history['acc'])\n",
    "plt.title('Model accuracy')\n",
    "plt.ylabel('Accuracy')\n",
    "plt.xlabel('Epoch')\n",
    "plt.legend(['Train', 'Validation'], loc='upper left')\n",
    "plt.savefig('accuracy.png', format='png', dpi=1200)\n",
    "plt.show()"
   ]
  },
  {
   "cell_type": "code",
   "execution_count": 75,
   "metadata": {},
   "outputs": [
    {
     "name": "stdout",
     "output_type": "stream",
     "text": [
      "1307/1307 [==============================] - 1s 800us/step\n",
      "Accuracy  : 0.886282667431796\n",
      "Precision : 0.7854969665900194\n",
      "f1Score : 0.8328518097019743\n",
      "[[37067     0     0]\n",
      " [ 4743     0     0]\n",
      " [   13     0     0]]\n"
     ]
    },
    {
     "name": "stderr",
     "output_type": "stream",
     "text": [
      "C:\\Users\\Public\\anaconda3\\lib\\site-packages\\sklearn\\metrics\\_classification.py:1245: UndefinedMetricWarning: Precision is ill-defined and being set to 0.0 in labels with no predicted samples. Use `zero_division` parameter to control this behavior.\n",
      "  _warn_prf(average, modifier, msg_start, len(result))\n"
     ]
    }
   ],
   "source": [
    "predictions = model.predict(X_test, verbose=1)\n",
    "predictcv=np.argmax(predictions,axis=1)\n",
    "actual_valuecv=np.argmax(Y_test,axis=1)\n",
    "showResults(actual_valuecv, predictcv)"
   ]
  },
  {
   "cell_type": "code",
   "execution_count": 76,
   "metadata": {},
   "outputs": [],
   "source": [
    "gru = accuracy_score(actual_valuecv, predictcv)\n",
    "f1gru = f1_score(actual_valuecv, predictcv, average='weighted') "
   ]
  },
  {
   "cell_type": "markdown",
   "metadata": {},
   "source": [
    "# For Machine Learning"
   ]
  },
  {
   "cell_type": "code",
   "execution_count": 77,
   "metadata": {},
   "outputs": [],
   "source": [
    "X = train_df.iloc[:, 2:9]\n",
    "y = train_df.iloc[:,9]"
   ]
  },
  {
   "cell_type": "code",
   "execution_count": 78,
   "metadata": {},
   "outputs": [
    {
     "data": {
      "text/html": [
       "<div>\n",
       "<style scoped>\n",
       "    .dataframe tbody tr th:only-of-type {\n",
       "        vertical-align: middle;\n",
       "    }\n",
       "\n",
       "    .dataframe tbody tr th {\n",
       "        vertical-align: top;\n",
       "    }\n",
       "\n",
       "    .dataframe thead th {\n",
       "        text-align: right;\n",
       "    }\n",
       "</style>\n",
       "<table border=\"1\" class=\"dataframe\">\n",
       "  <thead>\n",
       "    <tr style=\"text-align: right;\">\n",
       "      <th></th>\n",
       "      <th>latitude</th>\n",
       "      <th>longitude</th>\n",
       "      <th>direction</th>\n",
       "      <th>road</th>\n",
       "      <th>avgVehicleSpeed</th>\n",
       "      <th>vehicleFlowRate</th>\n",
       "      <th>trafficConcentration</th>\n",
       "    </tr>\n",
       "  </thead>\n",
       "  <tbody>\n",
       "    <tr>\n",
       "      <th>0</th>\n",
       "      <td>49.493904</td>\n",
       "      <td>5.947297</td>\n",
       "      <td>1</td>\n",
       "      <td>0</td>\n",
       "      <td>58.0</td>\n",
       "      <td>114</td>\n",
       "      <td>0.0</td>\n",
       "    </tr>\n",
       "    <tr>\n",
       "      <th>1</th>\n",
       "      <td>49.493275</td>\n",
       "      <td>5.949434</td>\n",
       "      <td>1</td>\n",
       "      <td>0</td>\n",
       "      <td>61.0</td>\n",
       "      <td>108</td>\n",
       "      <td>1.0</td>\n",
       "    </tr>\n",
       "    <tr>\n",
       "      <th>2</th>\n",
       "      <td>49.491620</td>\n",
       "      <td>5.953512</td>\n",
       "      <td>1</td>\n",
       "      <td>0</td>\n",
       "      <td>69.0</td>\n",
       "      <td>133</td>\n",
       "      <td>0.0</td>\n",
       "    </tr>\n",
       "    <tr>\n",
       "      <th>3</th>\n",
       "      <td>49.493332</td>\n",
       "      <td>5.949474</td>\n",
       "      <td>0</td>\n",
       "      <td>0</td>\n",
       "      <td>58.0</td>\n",
       "      <td>1111</td>\n",
       "      <td>6.0</td>\n",
       "    </tr>\n",
       "    <tr>\n",
       "      <th>4</th>\n",
       "      <td>49.493960</td>\n",
       "      <td>5.947337</td>\n",
       "      <td>0</td>\n",
       "      <td>0</td>\n",
       "      <td>59.0</td>\n",
       "      <td>1116</td>\n",
       "      <td>5.0</td>\n",
       "    </tr>\n",
       "    <tr>\n",
       "      <th>...</th>\n",
       "      <td>...</td>\n",
       "      <td>...</td>\n",
       "      <td>...</td>\n",
       "      <td>...</td>\n",
       "      <td>...</td>\n",
       "      <td>...</td>\n",
       "      <td>...</td>\n",
       "    </tr>\n",
       "    <tr>\n",
       "      <th>177535</th>\n",
       "      <td>49.491695</td>\n",
       "      <td>5.953599</td>\n",
       "      <td>0</td>\n",
       "      <td>0</td>\n",
       "      <td>78.0</td>\n",
       "      <td>111</td>\n",
       "      <td>0.0</td>\n",
       "    </tr>\n",
       "    <tr>\n",
       "      <th>177536</th>\n",
       "      <td>49.497500</td>\n",
       "      <td>5.942809</td>\n",
       "      <td>1</td>\n",
       "      <td>0</td>\n",
       "      <td>92.0</td>\n",
       "      <td>45</td>\n",
       "      <td>0.0</td>\n",
       "    </tr>\n",
       "    <tr>\n",
       "      <th>177537</th>\n",
       "      <td>49.497510</td>\n",
       "      <td>5.942954</td>\n",
       "      <td>0</td>\n",
       "      <td>0</td>\n",
       "      <td>82.0</td>\n",
       "      <td>96</td>\n",
       "      <td>0.0</td>\n",
       "    </tr>\n",
       "    <tr>\n",
       "      <th>177538</th>\n",
       "      <td>49.493275</td>\n",
       "      <td>5.949434</td>\n",
       "      <td>1</td>\n",
       "      <td>0</td>\n",
       "      <td>93.0</td>\n",
       "      <td>40</td>\n",
       "      <td>0.0</td>\n",
       "    </tr>\n",
       "    <tr>\n",
       "      <th>177539</th>\n",
       "      <td>49.493960</td>\n",
       "      <td>5.947337</td>\n",
       "      <td>0</td>\n",
       "      <td>0</td>\n",
       "      <td>61.0</td>\n",
       "      <td>92</td>\n",
       "      <td>1.0</td>\n",
       "    </tr>\n",
       "  </tbody>\n",
       "</table>\n",
       "<p>167291 rows × 7 columns</p>\n",
       "</div>"
      ],
      "text/plain": [
       "         latitude  longitude  direction  road  avgVehicleSpeed  \\\n",
       "0       49.493904   5.947297          1     0             58.0   \n",
       "1       49.493275   5.949434          1     0             61.0   \n",
       "2       49.491620   5.953512          1     0             69.0   \n",
       "3       49.493332   5.949474          0     0             58.0   \n",
       "4       49.493960   5.947337          0     0             59.0   \n",
       "...           ...        ...        ...   ...              ...   \n",
       "177535  49.491695   5.953599          0     0             78.0   \n",
       "177536  49.497500   5.942809          1     0             92.0   \n",
       "177537  49.497510   5.942954          0     0             82.0   \n",
       "177538  49.493275   5.949434          1     0             93.0   \n",
       "177539  49.493960   5.947337          0     0             61.0   \n",
       "\n",
       "        vehicleFlowRate  trafficConcentration  \n",
       "0                   114                   0.0  \n",
       "1                   108                   1.0  \n",
       "2                   133                   0.0  \n",
       "3                  1111                   6.0  \n",
       "4                  1116                   5.0  \n",
       "...                 ...                   ...  \n",
       "177535              111                   0.0  \n",
       "177536               45                   0.0  \n",
       "177537               96                   0.0  \n",
       "177538               40                   0.0  \n",
       "177539               92                   1.0  \n",
       "\n",
       "[167291 rows x 7 columns]"
      ]
     },
     "execution_count": 78,
     "metadata": {},
     "output_type": "execute_result"
    }
   ],
   "source": [
    "X"
   ]
  },
  {
   "cell_type": "code",
   "execution_count": 79,
   "metadata": {},
   "outputs": [
    {
     "data": {
      "text/plain": [
       "0         0\n",
       "1         0\n",
       "2         0\n",
       "3         0\n",
       "4         0\n",
       "         ..\n",
       "177535    0\n",
       "177536    1\n",
       "177537    1\n",
       "177538    1\n",
       "177539    0\n",
       "Name: trafficStatus, Length: 167291, dtype: int32"
      ]
     },
     "execution_count": 79,
     "metadata": {},
     "output_type": "execute_result"
    }
   ],
   "source": [
    "y"
   ]
  },
  {
   "cell_type": "code",
   "execution_count": 80,
   "metadata": {},
   "outputs": [],
   "source": [
    "from sklearn.model_selection import cross_val_score\n",
    "from sklearn.metrics import classification_report\n",
    "from sklearn.metrics import confusion_matrix\n",
    "from sklearn.metrics import accuracy_score"
   ]
  },
  {
   "cell_type": "markdown",
   "metadata": {},
   "source": [
    "# Random Forest"
   ]
  },
  {
   "cell_type": "code",
   "execution_count": 81,
   "metadata": {},
   "outputs": [
    {
     "name": "stdout",
     "output_type": "stream",
     "text": [
      "*Confusion Matrix for RF: \n",
      "[[148323      0      0      0]\n",
      " [     0  18904      0      0]\n",
      " [     0      0      4      0]\n",
      " [     0      0      0     60]]\n"
     ]
    }
   ],
   "source": [
    "from sklearn.ensemble import RandomForestClassifier\n",
    "RF = RandomForestClassifier()\n",
    "RF.fit(X, y)\n",
    "predictions = RF.predict(X)\n",
    "print(\"*Confusion Matrix for RF: \")\n",
    "print(confusion_matrix(y, predictions))"
   ]
  },
  {
   "cell_type": "code",
   "execution_count": 82,
   "metadata": {},
   "outputs": [
    {
     "name": "stdout",
     "output_type": "stream",
     "text": [
      "*Classification report for RF: \n",
      "              precision    recall  f1-score   support\n",
      "\n",
      "           0       1.00      1.00      1.00    148323\n",
      "           1       1.00      1.00      1.00     18904\n",
      "           2       1.00      1.00      1.00         4\n",
      "           3       1.00      1.00      1.00        60\n",
      "\n",
      "    accuracy                           1.00    167291\n",
      "   macro avg       1.00      1.00      1.00    167291\n",
      "weighted avg       1.00      1.00      1.00    167291\n",
      "\n"
     ]
    }
   ],
   "source": [
    "print(\"*Classification report for RF: \")\n",
    "print(classification_report(y, predictions))"
   ]
  },
  {
   "cell_type": "code",
   "execution_count": 83,
   "metadata": {},
   "outputs": [
    {
     "name": "stdout",
     "output_type": "stream",
     "text": [
      "100.0\n"
     ]
    }
   ],
   "source": [
    "val1 = accuracy_score(y, predictions) *100\n",
    "print(val1)"
   ]
  },
  {
   "cell_type": "code",
   "execution_count": 84,
   "metadata": {},
   "outputs": [],
   "source": [
    "f1rf = f1_score(y, predictions, average='weighted') "
   ]
  },
  {
   "cell_type": "markdown",
   "metadata": {},
   "source": [
    "# Decision Tree"
   ]
  },
  {
   "cell_type": "code",
   "execution_count": 85,
   "metadata": {},
   "outputs": [
    {
     "name": "stdout",
     "output_type": "stream",
     "text": [
      "*Confusion Matrix for DT: \n",
      "[[148323      0      0      0]\n",
      " [     0  18904      0      0]\n",
      " [     0      0      4      0]\n",
      " [     0      0      0     60]]\n"
     ]
    }
   ],
   "source": [
    "from sklearn import tree\n",
    "DT = tree.DecisionTreeClassifier()\n",
    "DT.fit(X, y)\n",
    "predictions = DT.predict(X)\n",
    "print(\"*Confusion Matrix for DT: \")\n",
    "print(confusion_matrix(y, predictions))"
   ]
  },
  {
   "cell_type": "code",
   "execution_count": 86,
   "metadata": {},
   "outputs": [
    {
     "name": "stdout",
     "output_type": "stream",
     "text": [
      "*Classification report for DT: \n",
      "              precision    recall  f1-score   support\n",
      "\n",
      "           0       1.00      1.00      1.00    148323\n",
      "           1       1.00      1.00      1.00     18904\n",
      "           2       1.00      1.00      1.00         4\n",
      "           3       1.00      1.00      1.00        60\n",
      "\n",
      "    accuracy                           1.00    167291\n",
      "   macro avg       1.00      1.00      1.00    167291\n",
      "weighted avg       1.00      1.00      1.00    167291\n",
      "\n"
     ]
    }
   ],
   "source": [
    "print(\"*Classification report for DT: \")\n",
    "print(classification_report(y, predictions))"
   ]
  },
  {
   "cell_type": "code",
   "execution_count": 87,
   "metadata": {},
   "outputs": [
    {
     "name": "stdout",
     "output_type": "stream",
     "text": [
      "100.0\n"
     ]
    }
   ],
   "source": [
    "val2 = accuracy_score(y, predictions) *100\n",
    "print(val2)"
   ]
  },
  {
   "cell_type": "code",
   "execution_count": 88,
   "metadata": {},
   "outputs": [],
   "source": [
    "f1dt = f1_score(y, predictions, average='weighted') "
   ]
  },
  {
   "cell_type": "markdown",
   "metadata": {},
   "source": [
    "# Support Vector Machine"
   ]
  },
  {
   "cell_type": "code",
   "execution_count": 89,
   "metadata": {},
   "outputs": [
    {
     "name": "stdout",
     "output_type": "stream",
     "text": [
      "*Confusion Matrix for SVM: \n",
      "[[148320      3      0      0]\n",
      " [     8  18896      0      0]\n",
      " [     0      0      4      0]\n",
      " [     0      0      0     60]]\n",
      "99.99342463133102\n"
     ]
    }
   ],
   "source": [
    "from sklearn.svm import SVC\n",
    "clf = SVC(gamma='auto')\n",
    "clf.fit(X, y)\n",
    "predictions = clf.predict(X)\n",
    "print(\"*Confusion Matrix for SVM: \")\n",
    "print(confusion_matrix(y, predictions))\n",
    "\n",
    "val4 = accuracy_score(y, predictions) *100\n",
    "print(val4)"
   ]
  },
  {
   "cell_type": "code",
   "execution_count": 90,
   "metadata": {},
   "outputs": [
    {
     "name": "stdout",
     "output_type": "stream",
     "text": [
      "*Classification report for SVM: \n",
      "              precision    recall  f1-score   support\n",
      "\n",
      "           0       1.00      1.00      1.00    148323\n",
      "           1       1.00      1.00      1.00     18904\n",
      "           2       1.00      1.00      1.00         4\n",
      "           3       1.00      1.00      1.00        60\n",
      "\n",
      "    accuracy                           1.00    167291\n",
      "   macro avg       1.00      1.00      1.00    167291\n",
      "weighted avg       1.00      1.00      1.00    167291\n",
      "\n"
     ]
    }
   ],
   "source": [
    "print(\"*Classification report for SVM: \")\n",
    "print(classification_report(y, predictions))"
   ]
  },
  {
   "cell_type": "code",
   "execution_count": 91,
   "metadata": {},
   "outputs": [],
   "source": [
    "f1svm = f1_score(y, predictions, average='weighted') "
   ]
  },
  {
   "cell_type": "markdown",
   "metadata": {},
   "source": [
    "# KNN"
   ]
  },
  {
   "cell_type": "code",
   "execution_count": 92,
   "metadata": {},
   "outputs": [
    {
     "name": "stdout",
     "output_type": "stream",
     "text": [
      "*Confusion Matrix for SVM: \n",
      "[[148287     33      0      3]\n",
      " [    56  18848      0      0]\n",
      " [     0      0      4      0]\n",
      " [     7      0      0     53]]\n",
      "99.94082168197932\n"
     ]
    }
   ],
   "source": [
    "from sklearn.neighbors import KNeighborsClassifier\n",
    "clf = KNeighborsClassifier(n_neighbors=3)\n",
    "clf.fit(X, y)\n",
    "predictions = clf.predict(X)\n",
    "print(\"*Confusion Matrix for SVM: \")\n",
    "print(confusion_matrix(y, predictions))\n",
    "\n",
    "val3 = accuracy_score(y, predictions) *100\n",
    "print(val3)"
   ]
  },
  {
   "cell_type": "code",
   "execution_count": 93,
   "metadata": {},
   "outputs": [
    {
     "name": "stdout",
     "output_type": "stream",
     "text": [
      "*Classification report for KNN: \n",
      "              precision    recall  f1-score   support\n",
      "\n",
      "           0       1.00      1.00      1.00    148323\n",
      "           1       1.00      1.00      1.00     18904\n",
      "           2       1.00      1.00      1.00         4\n",
      "           3       0.95      0.88      0.91        60\n",
      "\n",
      "    accuracy                           1.00    167291\n",
      "   macro avg       0.99      0.97      0.98    167291\n",
      "weighted avg       1.00      1.00      1.00    167291\n",
      "\n"
     ]
    }
   ],
   "source": [
    "print(\"*Classification report for KNN: \")\n",
    "print(classification_report(y, predictions))"
   ]
  },
  {
   "cell_type": "code",
   "execution_count": 94,
   "metadata": {},
   "outputs": [],
   "source": [
    "f1knn = f1_score(y, predictions, average='weighted') "
   ]
  },
  {
   "cell_type": "markdown",
   "metadata": {},
   "source": [
    "# Voting Classifier"
   ]
  },
  {
   "cell_type": "code",
   "execution_count": 95,
   "metadata": {},
   "outputs": [
    {
     "name": "stdout",
     "output_type": "stream",
     "text": [
      "*Confusion Matrix for Voting Classifier: \n",
      "[[148323      0      0      0]\n",
      " [     0  18904      0      0]\n",
      " [     0      0      4      0]\n",
      " [     0      0      0     60]]\n"
     ]
    }
   ],
   "source": [
    "from sklearn.svm import SVC\n",
    "from sklearn.tree import DecisionTreeClassifier\n",
    "from sklearn.ensemble import RandomForestClassifier, VotingClassifier\n",
    "clf1 = SVC(gamma='auto')\n",
    "clf2 = RandomForestClassifier(n_estimators=50, random_state=1)\n",
    "clf3 = DecisionTreeClassifier()\n",
    "eclf1 = VotingClassifier(estimators=[('lr', clf1), ('rf', clf2), ('dt', clf3)], voting='hard')\n",
    "eclf1.fit(X, y)\n",
    "predictions = eclf1.predict(X)\n",
    "print(\"*Confusion Matrix for Voting Classifier: \")\n",
    "print(confusion_matrix(y, predictions))"
   ]
  },
  {
   "cell_type": "code",
   "execution_count": 96,
   "metadata": {},
   "outputs": [
    {
     "name": "stdout",
     "output_type": "stream",
     "text": [
      "*Classification report for Voting Classifier: \n",
      "              precision    recall  f1-score   support\n",
      "\n",
      "           0       1.00      1.00      1.00    148323\n",
      "           1       1.00      1.00      1.00     18904\n",
      "           2       1.00      1.00      1.00         4\n",
      "           3       1.00      1.00      1.00        60\n",
      "\n",
      "    accuracy                           1.00    167291\n",
      "   macro avg       1.00      1.00      1.00    167291\n",
      "weighted avg       1.00      1.00      1.00    167291\n",
      "\n"
     ]
    }
   ],
   "source": [
    "print(\"*Classification report for Voting Classifier: \")\n",
    "print(classification_report(y, predictions))"
   ]
  },
  {
   "cell_type": "code",
   "execution_count": 97,
   "metadata": {},
   "outputs": [
    {
     "name": "stdout",
     "output_type": "stream",
     "text": [
      "100.0\n"
     ]
    }
   ],
   "source": [
    "val5 = accuracy_score(y, predictions) *100\n",
    "print(val5)"
   ]
  },
  {
   "cell_type": "code",
   "execution_count": 98,
   "metadata": {},
   "outputs": [],
   "source": [
    "f1vot = f1_score(y, predictions, average='weighted') "
   ]
  },
  {
   "cell_type": "markdown",
   "metadata": {},
   "source": [
    "# Comparison"
   ]
  },
  {
   "cell_type": "code",
   "execution_count": 99,
   "metadata": {},
   "outputs": [
    {
     "data": {
      "image/png": "[encoded data removed]",
      "text/plain": [
       "<Figure size 432x288 with 1 Axes>"
      ]
     },
     "metadata": {
      "needs_background": "light"
     },
     "output_type": "display_data"
    }
   ],
   "source": [
    "import numpy as np\n",
    "import matplotlib.pyplot as plt\n",
    "\n",
    "N = 12\n",
    "ind = np.arange(N)  # the x locations for the groups\n",
    "width = 0.3      # the width of the bars\n",
    "\n",
    "fig = plt.figure()\n",
    "ax = fig.add_subplot(111)\n",
    "\n",
    "yvals = [cnn*100,cnnkv*100,hyd*100,lstm*100,bilstm*100,rnn*100,gru*100,val1,val2,val3,val4,val5]\n",
    "\n",
    "rects1 = ax.bar(ind, yvals, width, color='r')\n",
    "zvals = [f1cnn*100,f1cnnkv*100,f1hyd*100,f1lstm*100,f1bilstm*100,f1rnn*100,f1gru*100,f1rf*100,f1dt*100,f1knn*100,f1svm*100,f1vot*100]\n",
    "rects2 = ax.bar(ind+width, zvals, width, color='g')\n",
    "\n",
    "\n",
    "ax.set_ylabel('Scores')\n",
    "ax.set_xticks(ind+width)\n",
    "ax.set_xticklabels( ('CNN','CNN+KFlodValidation','CNN+LSTM','LSTM','BiLSTM','RNN','GRU','RF','DT','KNN','SVM','Voting Classifier') )\n",
    "ax.legend( (rects1[0], rects2[0]), ('Accuracy', 'F1Score') )\n",
    "\n",
    "def autolabel(rects):\n",
    "    for rect in rects:\n",
    "        h = rect.get_height()\n",
    "        ax.text(rect.get_x()+rect.get_width()/2., 1.05*h, '%d'%int(h),\n",
    "                ha='center', va='bottom')\n",
    "\n",
    "autolabel(rects1)\n",
    "autolabel(rects2)\n",
    "\n",
    "plt.show()"
   ]
  },
  {
   "cell_type": "code",
   "execution_count": 100,
   "metadata": {},
   "outputs": [],
   "source": [
    "score = [cnn*100,cnnkv*100,hyd*100,lstm*100,bilstm*100,rnn*100,gru*100,val1,val2,val3,val4,val5]"
   ]
  },
  {
   "cell_type": "code",
   "execution_count": 101,
   "metadata": {},
   "outputs": [
    {
     "name": "stdout",
     "output_type": "stream",
     "text": [
      "[ 0  1  2  3  4  5  6  7  8  9 10 11]\n",
      "[89.54403079645171, 89.96724290462186, 99.96891662482366, 88.6282667431796, 88.6282667431796, 88.6282667431796, 88.6282667431796, 100.0, 100.0, 99.94082168197932, 99.99342463133102, 100.0]\n"
     ]
    }
   ],
   "source": [
    "#make variabel for save the result and to show it\n",
    "classifier = ('CNN','CNN+KFlodValidation','CNN+LSTM','LSTM','BiLSTM','RNN','GRU','RF','DT','KNN','SVM','Voting Classifier')\n",
    "y_pos = np.arange(len(classifier))\n",
    "print(y_pos)\n",
    "print(score)"
   ]
  },
  {
   "cell_type": "code",
   "execution_count": 102,
   "metadata": {},
   "outputs": [
    {
     "data": {
      "image/png": "[encoded data removed]",
      "text/plain": [
       "<Figure size 432x288 with 1 Axes>"
      ]
     },
     "metadata": {
      "needs_background": "light"
     },
     "output_type": "display_data"
    }
   ],
   "source": [
    "import matplotlib.pyplot as plt2\n",
    "plt2.barh(y_pos, score, align='center', alpha=0.5,color='blue')\n",
    "plt2.yticks(y_pos, classifier)\n",
    "plt2.xlabel('Score')\n",
    "plt2.title('Classification Performance')\n",
    "plt2.show()"
   ]
  },
  {
   "cell_type": "code",
   "execution_count": 103,
   "metadata": {},
   "outputs": [
    {
     "data": {
      "text/plain": [
       "['model.sav']"
      ]
     },
     "execution_count": 103,
     "metadata": {},
     "output_type": "execute_result"
    }
   ],
   "source": [
    "import joblib\n",
    "filename = 'model.sav'\n",
    "joblib.dump(eclf1, filename)"
   ]
  },
  {
   "cell_type": "code",
   "execution_count": null,
   "metadata": {},
   "outputs": [],
   "source": []
  }
 ],
 "metadata": {
  "accelerator": "GPU",
  "colab": {
   "collapsed_sections": [],
   "name": "notebook.ipynb",
   "provenance": []
  },
  "kernelspec": {
   "display_name": "Python 3",
   "language": "python",
   "name": "python3"
  },
  "language_info": {
   "codemirror_mode": {
    "name": "ipython",
    "version": 3
   },
   "file_extension": ".py",
   "mimetype": "text/x-python",
   "name": "python",
   "nbconvert_exporter": "python",
   "pygments_lexer": "ipython3",
   "version": "3.8.8"
  },
  "vscode": {
   "interpreter": {
    "hash": "31f2aee4e71d21fbe5cf8b01ff0e069b9275f58929596ceb00d14d90e3e16cd6"
   }
  }
 },
 "nbformat": 4,
 "nbformat_minor": 1
}
